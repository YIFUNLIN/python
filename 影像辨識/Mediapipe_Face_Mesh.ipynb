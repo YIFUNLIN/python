{
 "cells": [
  {
   "cell_type": "markdown",
   "id": "31533bf4",
   "metadata": {},
   "source": [
    "## 設定攝影機編號\n",
    "### 請使用者實際測試並設定 VIDEO_INDEX 編號值。\n",
    "### 解析度(寬為640，高為480)"
   ]
  },
  {
   "cell_type": "code",
   "execution_count": 1,
   "id": "6875aa1c",
   "metadata": {},
   "outputs": [],
   "source": [
    "VIDEO_INDEX = 1\n",
    "#VIDEO_INDEX = 'face.mp4'\n",
    "#VIDEO_INDEX = 'http://192.168.0.14:5000/live'\n",
    "\n",
    "VIDEO_WIDTH = 640\n",
    "VIDEO_HEIGHT = 480"
   ]
  },
  {
   "cell_type": "markdown",
   "id": "32927179",
   "metadata": {},
   "source": [
    "## 匯入相依套件"
   ]
  },
  {
   "cell_type": "code",
   "execution_count": 2,
   "id": "28608ff7",
   "metadata": {},
   "outputs": [],
   "source": [
    "import cv2\n",
    "import numpy as np\n",
    "import math\n",
    "import mediapipe as mp\n",
    "import matplotlib.pyplot as plt\n",
    "from IPython.display import display, Image\n",
    "import ipywidgets as widgets\n",
    "import threading"
   ]
  },
  {
   "cell_type": "markdown",
   "id": "b85400e2",
   "metadata": {},
   "source": [
    "## 設定mediapipe功能為臉部特徵追蹤功能"
   ]
  },
  {
   "cell_type": "code",
   "execution_count": 3,
   "id": "00054003",
   "metadata": {},
   "outputs": [],
   "source": [
    "mp_drawing = mp.solutions.drawing_utils\n",
    "mp_face_mesh = mp.solutions.face_mesh\n",
    "drawing_spec = mp_drawing.DrawingSpec(thickness=1, circle_radius=1)"
   ]
  },
  {
   "cell_type": "markdown",
   "id": "a98d960e",
   "metadata": {},
   "source": [
    "## 設定按鈕的外型"
   ]
  },
  {
   "cell_type": "code",
   "execution_count": 4,
   "id": "f4f2a6c0",
   "metadata": {},
   "outputs": [],
   "source": [
    "stopButton = widgets.ToggleButton(\n",
    "    value=False,\n",
    "    description='Stop',\n",
    "    disabled=False,\n",
    "    button_style='danger', # 'success', 'info', 'warning', 'danger' or ''\n",
    "    tooltip='Description',\n",
    "    icon='square' # (FontAwesome names without the `fa-` prefix)\n",
    ")"
   ]
  },
  {
   "cell_type": "code",
   "execution_count": 5,
   "id": "e675aa87",
   "metadata": {},
   "outputs": [],
   "source": [
    "Display_Value_Button = widgets.ToggleButton(\n",
    "    value=False,\n",
    "    description='Display Value',\n",
    "    disabled=False,\n",
    "    button_style='info', # 'success', 'info', 'warning', 'danger' or ''\n",
    "    tooltip='Description',\n",
    "    icon='square' # (FontAwesome names without the `fa-` prefix)\n",
    ")"
   ]
  },
  {
   "cell_type": "markdown",
   "id": "405e882b",
   "metadata": {},
   "source": [
    "## 副程式\n",
    "### 顯示狀態訊息文字於指定的位置\n",
    "### ratio_x 和 ratio_y 都是採用相對比例位置"
   ]
  },
  {
   "cell_type": "code",
   "execution_count": 6,
   "id": "f52850e6",
   "metadata": {},
   "outputs": [],
   "source": [
    "def Display_Info(image, info, ratio_x,ratio_y):\n",
    "    image_width=image.shape[1]\n",
    "    image_height=image.shape[0]\n",
    "    pos_x = int(image_width * ratio_x)\n",
    "    pos_y = int(image_height * ratio_y)\n",
    "    cv2.putText(\n",
    "        image,\n",
    "        info,\n",
    "        (pos_x,pos_y),\n",
    "        cv2.FONT_HERSHEY_SIMPLEX, 1,\n",
    "        (0,255,0), 6, cv2.LINE_AA)\n",
    "    cv2.putText(\n",
    "        image,\n",
    "        info,\n",
    "        (pos_x,pos_y),\n",
    "        cv2.FONT_HERSHEY_SIMPLEX, 1,\n",
    "        (0,0,0), 2, cv2.LINE_AA)"
   ]
  },
  {
   "cell_type": "markdown",
   "id": "f1c8940b",
   "metadata": {},
   "source": [
    "## 副程式\n",
    "### 計算 Point_1 和 Point_2 兩點之間的距離\n",
    "### 距離是採用與螢幕比例大小進行回傳"
   ]
  },
  {
   "cell_type": "code",
   "execution_count": 7,
   "id": "18e2c2b1",
   "metadata": {},
   "outputs": [],
   "source": [
    "def Distance_Ratio_2_Point(face_landmarks,Point_1,Point_2):\n",
    "    Point_1_X = face_landmarks.landmark[Point_1].x\n",
    "    Point_1_Y = face_landmarks.landmark[Point_1].y\n",
    "    Point_1 = np.array([Point_1_X,Point_1_Y])\n",
    "\n",
    "    Point_2_X = face_landmarks.landmark[Point_2].x\n",
    "    Point_2_Y = face_landmarks.landmark[Point_2].y\n",
    "    Point_2 = np.array([Point_2_X,Point_2_Y])\n",
    "    \n",
    "    Diff = Point_1 - Point_2\n",
    "    Distance = math.hypot(Diff[0],Diff[1])\n",
    "    \n",
    "    return Distance"
   ]
  },
  {
   "cell_type": "markdown",
   "id": "3546c51f",
   "metadata": {},
   "source": [
    "## OpenCV顯示即時影像畫面副程式"
   ]
  },
  {
   "cell_type": "code",
   "execution_count": 8,
   "id": "11dee75c",
   "metadata": {},
   "outputs": [],
   "source": [
    "def view(button):\n",
    "    \n",
    "    cap = cv2.VideoCapture(VIDEO_INDEX)\n",
    "    cap.set(cv2.CAP_PROP_FRAME_WIDTH, VIDEO_WIDTH)\n",
    "    cap.set(cv2.CAP_PROP_FRAME_HEIGHT, VIDEO_HEIGHT)\n",
    "    \n",
    "    sw = 1\n",
    "    display_handle=display(None, display_id=True)\n",
    "    \n",
    "    with mp_face_mesh.FaceMesh(\n",
    "        min_detection_confidence=0.5,\n",
    "        min_tracking_confidence=0.5) as face_mesh:       \n",
    "        \n",
    "        stop_flag = 0\n",
    "        frame_counter = 0\n",
    "    \n",
    "        while (stop_flag == 0):\n",
    "            \n",
    "            if (type(VIDEO_INDEX) == int) or ('http' in VIDEO_INDEX):\n",
    "                ret,image = cap.read()\n",
    "            else:\n",
    "                ret,image = cap.read()\n",
    "                frame_counter += 1\n",
    "                if frame_counter == int(cap.get(cv2.CAP_PROP_FRAME_COUNT)):\n",
    "                    frame_counter = 0\n",
    "                    cap.set(cv2.CAP_PROP_POS_FRAMES, 0)                \n",
    "            if (ret != True):\n",
    "                break\n",
    "\n",
    "            # image = cv2.flip(image, 1) # if your camera reverses your image\n",
    "        \n",
    "            image_width=image.shape[1]\n",
    "            image_height=image.shape[0]\n",
    "            \n",
    "            # Flip the image horizontally for a later selfie-view display, and convert the BGR image to RGB.\n",
    "            image = cv2.cvtColor(cv2.flip(image, 1), cv2.COLOR_BGR2RGB)\n",
    "            # To improve performance, optionally mark the image as not writeable to pass by reference.\n",
    "            image.flags.writeable = False\n",
    "            results = face_mesh.process(image)\n",
    "\n",
    "            # Draw the face mesh annotations on the image.\n",
    "            image.flags.writeable = True\n",
    "            image = cv2.cvtColor(image, cv2.COLOR_RGB2BGR)\n",
    "            if results.multi_face_landmarks:\n",
    "                for face_landmarks in results.multi_face_landmarks:\n",
    "\n",
    "                    DLV = Distance_Ratio_2_Point(face_landmarks,145,159) #左眼上下眼瞼垂直距離\n",
    "\n",
    "                    DLH = Distance_Ratio_2_Point(face_landmarks,133,33) #左眼內外眼角水平距離\n",
    "                                \n",
    "                    DRV = Distance_Ratio_2_Point(face_landmarks,374,386) #右眼上下眼瞼垂直距離\n",
    "\n",
    "                    DRH = Distance_Ratio_2_Point(face_landmarks,362,263) #右眼內外眼角水平距離\n",
    "                    \n",
    "                    \n",
    "                    DRN = Distance_Ratio_2_Point(face_landmarks,374,6) #鼻子到右眼的距離\n",
    "                    \n",
    "                    DLN = Distance_Ratio_2_Point(face_landmarks,145,6) ##鼻子到左眼的距離\n",
    "\n",
    "                    Ratio_L = DLV / DLH #右眼張開比例 \n",
    "                    Ratio_R = DRV / DRH #左眼張開比例\n",
    "                    \n",
    "                    if (Ratio_L < 0.35) and (Ratio_R < 0.35) and (sw == 0):\n",
    "                        Display_Info(\n",
    "                            image, \n",
    "                            'Close', \n",
    "                            0.5, 0.2)\n",
    "                    elif (sw == 0):\n",
    "                        Display_Info(\n",
    "                            image, \n",
    "                            'Normal', \n",
    "                            0.5, 0.2)\n",
    "        \n",
    "                    if (sw == 1):\n",
    "                        mp_drawing.draw_landmarks(\n",
    "                            image=image,\n",
    "                            landmark_list=face_landmarks,\n",
    "                            connections=mp_face_mesh.FACEMESH_CONTOURS,\n",
    "                            landmark_drawing_spec=drawing_spec,\n",
    "                            connection_drawing_spec=drawing_spec)\n",
    "                    \n",
    "                        #Display_Info(image, 'Ratio_L='+ str(Ratio_L), 0.05,0.05)\n",
    "                        #Display_Info(image, 'Ratio_R='+ str(Ratio_R), 0.05,0.15)\n",
    "\n",
    "                        Display_Info(image, 'DRN='+ str(DRN), 0.05,0.05)\n",
    "                        Display_Info(image, 'DLN='+ str(DLN), 0.05,0.15)\n",
    "\n",
    "                        \n",
    "                        \n",
    "                    _, image = cv2.imencode('.jpeg', image)\n",
    "        \n",
    "                    display_handle.update(Image(data=image.tobytes()))\n",
    "            \n",
    "                    if Display_Value_Button.value==True:\n",
    "                        sw = sw + 1\n",
    "                        if (sw == 2):\n",
    "                            sw = 0\n",
    "                        Display_Value_Button.value = False\n",
    "            \n",
    "                    if stopButton.value==True:\n",
    "                        stop_flag = 1\n",
    "                        cap.release()\n",
    "                        display_handle.update(None)"
   ]
  },
  {
   "cell_type": "markdown",
   "id": "0c27de1d",
   "metadata": {},
   "source": [
    "## 執行程式"
   ]
  },
  {
   "cell_type": "code",
   "execution_count": 9,
   "id": "e32b9092",
   "metadata": {},
   "outputs": [
    {
     "data": {
      "application/vnd.jupyter.widget-view+json": {
       "model_id": "1b7a25f627f645afb2c06d677c551188",
       "version_major": 2,
       "version_minor": 0
      },
      "text/plain": [
       "ToggleButton(value=False, button_style='info', description='Display Value', icon='square', tooltip='Descriptio…"
      ]
     },
     "metadata": {},
     "output_type": "display_data"
    },
    {
     "data": {
      "application/vnd.jupyter.widget-view+json": {
       "model_id": "860c3b526d9b48bfb0d67bc0cba22739",
       "version_major": 2,
       "version_minor": 0
      },
      "text/plain": [
       "ToggleButton(value=False, button_style='danger', description='Stop', icon='square', tooltip='Description')"
      ]
     },
     "metadata": {},
     "output_type": "display_data"
    },
    {
     "data": {
      "text/plain": [
       "None"
      ]
     },
     "metadata": {},
     "output_type": "display_data"
    }
   ],
   "source": [
    "display(Display_Value_Button)\n",
    "\n",
    "thread = threading.Thread(target=view, args=(stopButton,))\n",
    "thread.start()\n",
    "\n",
    "display(stopButton)"
   ]
  },
  {
   "cell_type": "code",
   "execution_count": null,
   "id": "ce4cb411",
   "metadata": {},
   "outputs": [],
   "source": []
  }
 ],
 "metadata": {
  "kernelspec": {
   "display_name": "Python 3 (ipykernel)",
   "language": "python",
   "name": "python3"
  },
  "language_info": {
   "codemirror_mode": {
    "name": "ipython",
    "version": 3
   },
   "file_extension": ".py",
   "mimetype": "text/x-python",
   "name": "python",
   "nbconvert_exporter": "python",
   "pygments_lexer": "ipython3",
   "version": "3.7.13"
  }
 },
 "nbformat": 4,
 "nbformat_minor": 5
}
