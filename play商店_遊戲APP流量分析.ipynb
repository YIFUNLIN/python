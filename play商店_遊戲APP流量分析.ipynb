{
 "cells": [
  {
   "cell_type": "code",
   "execution_count": 2,
   "id": "05c405c7",
   "metadata": {},
   "outputs": [],
   "source": [
    "app_packages = ['com.nintendo.zaka','com.moonactive.coinmaster','com.roblox.client','com.king.candycrushsaga','com.tapblaze.pizzabusiness',\n",
    "                'com.wildlife.games.battle.royale.free.zooba','es.socialpoint.DragonCity','com.ubisoft.hungrysharkworld','com.gameloft.android.ANMP.GloftA9HM','com.fgol.HungrySharkEvolution']\n",
    "\n",
    "#爬取網路google play的應用程式網址: 從ID=\" ~ \"(第一個&前)"
   ]
  },
  {
   "cell_type": "code",
   "execution_count": 3,
   "id": "37db0776",
   "metadata": {},
   "outputs": [
    {
     "name": "stderr",
     "output_type": "stream",
     "text": [
      "100%|██████████████████████████████████████████████████████████████████████████████████| 10/10 [00:02<00:00,  4.99it/s]\n"
     ]
    }
   ],
   "source": [
    "import pandas as pd\n",
    "import numpy as np\n",
    "from tqdm import tqdm                      #進度條\n",
    "import matplotlib.pyplot as plt\n",
    "from google_play_scraper import Sort, reviews, app\n",
    "import plotly.tools as tls\n",
    "import plotly.graph_objs as go\n",
    "from plotly.offline import download_plotlyjs, init_notebook_mode, plot, iplot\n",
    "\n",
    "app_infos = []\n",
    "\n",
    "for ap in tqdm(app_packages):\n",
    "  info = app(ap, lang='zh-tw', country='tw')    #APP抓回來的原始資料\n",
    "  del info['comments']                          #評論欄位暫時用不到\n",
    "  app_infos.append(info)"
   ]
  },
  {
   "cell_type": "code",
   "execution_count": 4,
   "id": "cfe659e3",
   "metadata": {},
   "outputs": [
    {
     "data": {
      "text/html": [
       "<div>\n",
       "<style scoped>\n",
       "    .dataframe tbody tr th:only-of-type {\n",
       "        vertical-align: middle;\n",
       "    }\n",
       "\n",
       "    .dataframe tbody tr th {\n",
       "        vertical-align: top;\n",
       "    }\n",
       "\n",
       "    .dataframe thead th {\n",
       "        text-align: right;\n",
       "    }\n",
       "</style>\n",
       "<table border=\"1\" class=\"dataframe\">\n",
       "  <thead>\n",
       "    <tr style=\"text-align: right;\">\n",
       "      <th></th>\n",
       "      <th>title</th>\n",
       "      <th>description</th>\n",
       "      <th>descriptionHTML</th>\n",
       "      <th>summary</th>\n",
       "      <th>installs</th>\n",
       "      <th>minInstalls</th>\n",
       "      <th>realInstalls</th>\n",
       "      <th>score</th>\n",
       "      <th>ratings</th>\n",
       "      <th>reviews</th>\n",
       "      <th>histogram</th>\n",
       "      <th>price</th>\n",
       "      <th>free</th>\n",
       "      <th>currency</th>\n",
       "      <th>sale</th>\n",
       "      <th>saleTime</th>\n",
       "      <th>originalPrice</th>\n",
       "      <th>saleText</th>\n",
       "      <th>offersIAP</th>\n",
       "      <th>inAppProductPrice</th>\n",
       "      <th>developer</th>\n",
       "      <th>developerId</th>\n",
       "      <th>developerEmail</th>\n",
       "      <th>developerWebsite</th>\n",
       "      <th>developerAddress</th>\n",
       "      <th>privacyPolicy</th>\n",
       "      <th>genre</th>\n",
       "      <th>genreId</th>\n",
       "      <th>icon</th>\n",
       "      <th>headerImage</th>\n",
       "      <th>screenshots</th>\n",
       "      <th>video</th>\n",
       "      <th>videoImage</th>\n",
       "      <th>contentRating</th>\n",
       "      <th>contentRatingDescription</th>\n",
       "      <th>adSupported</th>\n",
       "      <th>containsAds</th>\n",
       "      <th>released</th>\n",
       "      <th>updated</th>\n",
       "      <th>version</th>\n",
       "      <th>appId</th>\n",
       "      <th>url</th>\n",
       "    </tr>\n",
       "  </thead>\n",
       "  <tbody>\n",
       "    <tr>\n",
       "      <th>0</th>\n",
       "      <td>Mario Kart Tour</td>\n",
       "      <td>■可供大家一起同樂的多人遊玩！\\r\\n現在可以和《瑪利歐賽車 巡迴賽》中登錄的好友或是附近的...</td>\n",
       "      <td>■可供大家一起同樂的多人遊玩！&lt;br&gt;現在可以和《瑪利歐賽車 巡迴賽》中登錄的好友或是附近的...</td>\n",
       "      <td>參加比賽，馳騁世界吧！</td>\n",
       "      <td>100,000,000+</td>\n",
       "      <td>100000000</td>\n",
       "      <td>113777070</td>\n",
       "      <td>3.983448</td>\n",
       "      <td>2093323</td>\n",
       "      <td>6854</td>\n",
       "      <td>[379839, 70438, 97964, 200617, 1344102]</td>\n",
       "      <td>0</td>\n",
       "      <td>True</td>\n",
       "      <td>TWD</td>\n",
       "      <td>False</td>\n",
       "      <td>None</td>\n",
       "      <td>None</td>\n",
       "      <td>None</td>\n",
       "      <td>True</td>\n",
       "      <td>每個項目 $70.00 - $2,290.00</td>\n",
       "      <td>Nintendo Co., Ltd.</td>\n",
       "      <td>7277267556905944956</td>\n",
       "      <td>mariokarttour-support@nintendo.co.jp</td>\n",
       "      <td>https://mariokarttour.com/</td>\n",
       "      <td>京都府京都市南区上鳥羽鉾立町11-1</td>\n",
       "      <td>https://support.mariokarttour.com/application_...</td>\n",
       "      <td>動作</td>\n",
       "      <td>GAME_ACTION</td>\n",
       "      <td>https://play-lh.googleusercontent.com/bqGYFh6P...</td>\n",
       "      <td>https://play-lh.googleusercontent.com/zBsphZWJ...</td>\n",
       "      <td>[https://play-lh.googleusercontent.com/lvVJkJt...</td>\n",
       "      <td>https://www.youtube.com/embed/ZwEalAfEbYw?ps=p...</td>\n",
       "      <td>https://play-lh.googleusercontent.com/zBsphZWJ...</td>\n",
       "      <td>3 歲以上</td>\n",
       "      <td>None</td>\n",
       "      <td>False</td>\n",
       "      <td>False</td>\n",
       "      <td>2019年9月24日</td>\n",
       "      <td>1674636501</td>\n",
       "      <td>3.2.1</td>\n",
       "      <td>com.nintendo.zaka</td>\n",
       "      <td>https://play.google.com/store/apps/details?id=...</td>\n",
       "    </tr>\n",
       "    <tr>\n",
       "      <th>1</th>\n",
       "      <td>Coin Master</td>\n",
       "      <td>與你的Facebook好友以及世界各地的上百萬位玩家一起，加入攻擊、轉盤拉霸與突襲，將你的維...</td>\n",
       "      <td>與你的Facebook好友以及世界各地的上百萬位玩家一起，加入攻擊、轉盤拉霸與突襲，將你的維...</td>\n",
       "      <td>歡迎來到 Coin Master！一起冒險吧！</td>\n",
       "      <td>100,000,000+</td>\n",
       "      <td>100000000</td>\n",
       "      <td>239899559</td>\n",
       "      <td>4.183021</td>\n",
       "      <td>8340608</td>\n",
       "      <td>23976</td>\n",
       "      <td>[996736, 228162, 531812, 1078488, 5505196]</td>\n",
       "      <td>0</td>\n",
       "      <td>True</td>\n",
       "      <td>TWD</td>\n",
       "      <td>False</td>\n",
       "      <td>None</td>\n",
       "      <td>None</td>\n",
       "      <td>None</td>\n",
       "      <td>True</td>\n",
       "      <td>每個項目 $33.00 - $11,600.00</td>\n",
       "      <td>Moon Active</td>\n",
       "      <td>6898760406631171989</td>\n",
       "      <td>support@coinmastergame.com</td>\n",
       "      <td>http://moonactive.zendesk.com</td>\n",
       "      <td>Mikve Israel St 7, Tel Aviv-Yafo</td>\n",
       "      <td>https://static.moonactive.net/legal/privacy.html</td>\n",
       "      <td>休閒</td>\n",
       "      <td>GAME_CASUAL</td>\n",
       "      <td>https://play-lh.googleusercontent.com/Gpp87vMy...</td>\n",
       "      <td>https://play-lh.googleusercontent.com/fbECZUbO...</td>\n",
       "      <td>[https://play-lh.googleusercontent.com/ssCgXLy...</td>\n",
       "      <td>https://www.youtube.com/embed/STPiRTKOlyA?ps=p...</td>\n",
       "      <td>https://play-lh.googleusercontent.com/fbECZUbO...</td>\n",
       "      <td>12 歲以上</td>\n",
       "      <td>模擬賭博</td>\n",
       "      <td>False</td>\n",
       "      <td>False</td>\n",
       "      <td>2016年4月9日</td>\n",
       "      <td>1678618400</td>\n",
       "      <td>3.5.1070</td>\n",
       "      <td>com.moonactive.coinmaster</td>\n",
       "      <td>https://play.google.com/store/apps/details?id=...</td>\n",
       "    </tr>\n",
       "    <tr>\n",
       "      <th>2</th>\n",
       "      <td>Roblox</td>\n",
       "      <td>在 Roblox 這個終極虛擬宇宙裡，您可以創作、分享及化身為您心目中的自己。我們的全球社群...</td>\n",
       "      <td>在 Roblox 這個終極虛擬宇宙裡，您可以創作、分享及化身為您心目中的自己。我們的全球社群...</td>\n",
       "      <td>您在 Roblox 可以創作、共享體驗及化身為您心目中的自己。</td>\n",
       "      <td>500,000,000+</td>\n",
       "      <td>500000000</td>\n",
       "      <td>716171068</td>\n",
       "      <td>4.234436</td>\n",
       "      <td>33812039</td>\n",
       "      <td>21609</td>\n",
       "      <td>[4809517, 706557, 1118167, 2285629, 24889702]</td>\n",
       "      <td>0</td>\n",
       "      <td>True</td>\n",
       "      <td>TWD</td>\n",
       "      <td>False</td>\n",
       "      <td>None</td>\n",
       "      <td>None</td>\n",
       "      <td>None</td>\n",
       "      <td>True</td>\n",
       "      <td>每個項目 $17.00 - $6,590.00</td>\n",
       "      <td>Roblox Corporation</td>\n",
       "      <td>5360036014478858866</td>\n",
       "      <td>info@roblox.com</td>\n",
       "      <td>http://www.roblox.com</td>\n",
       "      <td>970 Park Place\\nSan Mateo, CA 94403\\n(USA)</td>\n",
       "      <td>http://www.roblox.com/info/Privacy.aspx</td>\n",
       "      <td>冒險</td>\n",
       "      <td>GAME_ADVENTURE</td>\n",
       "      <td>https://play-lh.googleusercontent.com/WNWZaxi9...</td>\n",
       "      <td>https://play-lh.googleusercontent.com/e7sQyywl...</td>\n",
       "      <td>[https://play-lh.googleusercontent.com/ELjt7-C...</td>\n",
       "      <td>https://www.youtube.com/embed/HsiMDb-mn5s?ps=p...</td>\n",
       "      <td>https://play-lh.googleusercontent.com/e7sQyywl...</td>\n",
       "      <td>12 歲以上</td>\n",
       "      <td>建議家長指導</td>\n",
       "      <td>False</td>\n",
       "      <td>False</td>\n",
       "      <td>2014年7月16日</td>\n",
       "      <td>1678986832</td>\n",
       "      <td>2.567.544</td>\n",
       "      <td>com.roblox.client</td>\n",
       "      <td>https://play.google.com/store/apps/details?id=...</td>\n",
       "    </tr>\n",
       "    <tr>\n",
       "      <th>3</th>\n",
       "      <td>糖果傳奇</td>\n",
       "      <td>馬上來玩《糖果傳奇》吧！這是一款鼎鼎有名的益智遊戲，全世界的百萬玩家莫不深深愛上這款遊戲。\\...</td>\n",
       "      <td>馬上來玩《糖果傳奇》吧！這是一款鼎鼎有名的益智遊戲，全世界的百萬玩家莫不深深愛上這款遊戲。&lt;...</td>\n",
       "      <td>最甜蜜的益智游戏！调换和消除糖果来闯关！</td>\n",
       "      <td>1,000,000,000+</td>\n",
       "      <td>1000000000</td>\n",
       "      <td>1510707426</td>\n",
       "      <td>4.419023</td>\n",
       "      <td>35952528</td>\n",
       "      <td>92681</td>\n",
       "      <td>[2735755, 742583, 1805892, 4104634, 26563488]</td>\n",
       "      <td>0</td>\n",
       "      <td>True</td>\n",
       "      <td>TWD</td>\n",
       "      <td>False</td>\n",
       "      <td>None</td>\n",
       "      <td>None</td>\n",
       "      <td>None</td>\n",
       "      <td>True</td>\n",
       "      <td>每個項目 $30.00 - $4,990.00</td>\n",
       "      <td>King</td>\n",
       "      <td>6577204690045492686</td>\n",
       "      <td>candycrush.techhelp@king.com</td>\n",
       "      <td>http://candycrushsaga.com/help/</td>\n",
       "      <td>King.com Limited\\nAragon Business Centre, Leve...</td>\n",
       "      <td>https://king.com/privacyPolicy</td>\n",
       "      <td>休閒</td>\n",
       "      <td>GAME_CASUAL</td>\n",
       "      <td>https://play-lh.googleusercontent.com/gU9NKwpg...</td>\n",
       "      <td>https://play-lh.googleusercontent.com/nSihWGGg...</td>\n",
       "      <td>[https://play-lh.googleusercontent.com/uM9H6BM...</td>\n",
       "      <td>https://www.youtube.com/embed/mgMFtSAegVQ?ps=p...</td>\n",
       "      <td>https://play-lh.googleusercontent.com/nSihWGGg...</td>\n",
       "      <td>3 歲以上</td>\n",
       "      <td>None</td>\n",
       "      <td>True</td>\n",
       "      <td>True</td>\n",
       "      <td>2012年11月15日</td>\n",
       "      <td>1678456384</td>\n",
       "      <td>1.248.0.1</td>\n",
       "      <td>com.king.candycrushsaga</td>\n",
       "      <td>https://play.google.com/store/apps/details?id=...</td>\n",
       "    </tr>\n",
       "    <tr>\n",
       "      <th>4</th>\n",
       "      <td>可口的披薩，美味的披薩</td>\n",
       "      <td>想體驗開一家屬於自己的披薩店的感覺嗎 ？「可口的披薩，美味的披薩」滿足你的一切想像！盡你所能...</td>\n",
       "      <td>想體驗開一家屬於自己的披薩店的感覺嗎 ？「可口的披薩，美味的披薩」滿足你的一切想像！盡你所能...</td>\n",
       "      <td>🍕 披薩店模擬遊戲 🍕</td>\n",
       "      <td>100,000,000+</td>\n",
       "      <td>100000000</td>\n",
       "      <td>135828667</td>\n",
       "      <td>4.550769</td>\n",
       "      <td>1307181</td>\n",
       "      <td>1950</td>\n",
       "      <td>[50252, 28052, 80323, 140667, 1007479]</td>\n",
       "      <td>0</td>\n",
       "      <td>True</td>\n",
       "      <td>TWD</td>\n",
       "      <td>False</td>\n",
       "      <td>None</td>\n",
       "      <td>None</td>\n",
       "      <td>None</td>\n",
       "      <td>True</td>\n",
       "      <td>每個項目 $29.00 - $2,930.00</td>\n",
       "      <td>TapBlaze</td>\n",
       "      <td>7300020765194314153</td>\n",
       "      <td>pizza@tapblaze.com</td>\n",
       "      <td>http://www.tapblaze.com</td>\n",
       "      <td>11901 Santa Monica Blvd\\nSte 507\\nLos Angeles,...</td>\n",
       "      <td>http://www.tapblaze.com/about/privacy-policy/</td>\n",
       "      <td>休閒</td>\n",
       "      <td>GAME_CASUAL</td>\n",
       "      <td>https://play-lh.googleusercontent.com/pRZ83NYu...</td>\n",
       "      <td>https://play-lh.googleusercontent.com/DEJ7Q0-R...</td>\n",
       "      <td>[https://play-lh.googleusercontent.com/AWyjKNO...</td>\n",
       "      <td>https://www.youtube.com/embed/97VS6SBDcOA?ps=p...</td>\n",
       "      <td>https://play-lh.googleusercontent.com/DEJ7Q0-R...</td>\n",
       "      <td>3 歲以上</td>\n",
       "      <td>None</td>\n",
       "      <td>True</td>\n",
       "      <td>True</td>\n",
       "      <td>2015年3月11日</td>\n",
       "      <td>1678950922</td>\n",
       "      <td>4.21.1</td>\n",
       "      <td>com.tapblaze.pizzabusiness</td>\n",
       "      <td>https://play.google.com/store/apps/details?id=...</td>\n",
       "    </tr>\n",
       "    <tr>\n",
       "      <th>5</th>\n",
       "      <td>動物王者：趣味大逃殺遊戲 (Zooba)</td>\n",
       "      <td>在這款趣味線上多人大逃殺遊戲中，你能成為堅守到最後的人嗎？\\r\\n\\r\\n&lt;b&gt;🐾 和好友一...</td>\n",
       "      <td>在這款趣味線上多人大逃殺遊戲中，你能成為堅守到最後的人嗎？&lt;br&gt;&lt;br&gt;&lt;b&gt;🐾 和好友一...</td>\n",
       "      <td>在史詩級多人線上射擊動作 MOBA 明星遊戲中，亂鬥、對決和遊戲！</td>\n",
       "      <td>50,000,000+</td>\n",
       "      <td>50000000</td>\n",
       "      <td>92591547</td>\n",
       "      <td>3.916054</td>\n",
       "      <td>1260767</td>\n",
       "      <td>3746</td>\n",
       "      <td>[247380, 35662, 73975, 121701, 781781]</td>\n",
       "      <td>0</td>\n",
       "      <td>True</td>\n",
       "      <td>TWD</td>\n",
       "      <td>False</td>\n",
       "      <td>None</td>\n",
       "      <td>None</td>\n",
       "      <td>None</td>\n",
       "      <td>True</td>\n",
       "      <td>每個項目 $31.00 - $11,500.00</td>\n",
       "      <td>Wildlife Studios</td>\n",
       "      <td>7486557340409834297</td>\n",
       "      <td>zoobasupport@wildlifestudios.com</td>\n",
       "      <td>https://www.wildlifestudios.com/</td>\n",
       "      <td>Block D, Iveagh Court Harcourt Road Dublin 2 D...</td>\n",
       "      <td>https://wildlifestudios.com/privacy-policy/</td>\n",
       "      <td>動作</td>\n",
       "      <td>GAME_ACTION</td>\n",
       "      <td>https://play-lh.googleusercontent.com/I3bp1APx...</td>\n",
       "      <td>https://play-lh.googleusercontent.com/Jt0Kh_e8...</td>\n",
       "      <td>[https://play-lh.googleusercontent.com/tSPFop7...</td>\n",
       "      <td>https://www.youtube.com/embed/JnUb2qyG_GQ?ps=p...</td>\n",
       "      <td>https://play-lh.googleusercontent.com/Jt0Kh_e8...</td>\n",
       "      <td>7 歲以上</td>\n",
       "      <td>輕度暴力</td>\n",
       "      <td>False</td>\n",
       "      <td>False</td>\n",
       "      <td>2019年9月19日</td>\n",
       "      <td>1678194474</td>\n",
       "      <td>4.5.0</td>\n",
       "      <td>com.wildlife.games.battle.royale.free.zooba</td>\n",
       "      <td>https://play.google.com/store/apps/details?id=...</td>\n",
       "    </tr>\n",
       "    <tr>\n",
       "      <th>6</th>\n",
       "      <td>龍城 (Dragon City)</td>\n",
       "      <td>準備好成為馭龍大師，在這款育龍遊戲中培育出一支噴火龍大軍了嗎？\\r\\n \\r\\n在浮空島嶼上...</td>\n",
       "      <td>準備好成為馭龍大師，在這款育龍遊戲中培育出一支噴火龍大軍了嗎？&lt;br&gt; &lt;br&gt;在浮空島嶼上...</td>\n",
       "      <td>在這款輕鬆有趣的培育龍遊戲中，收集島上各具特色的龍</td>\n",
       "      <td>100,000,000+</td>\n",
       "      <td>100000000</td>\n",
       "      <td>195668392</td>\n",
       "      <td>4.368760</td>\n",
       "      <td>9648727</td>\n",
       "      <td>5749</td>\n",
       "      <td>[804604, 217401, 528109, 1161965, 6935712]</td>\n",
       "      <td>0</td>\n",
       "      <td>True</td>\n",
       "      <td>TWD</td>\n",
       "      <td>False</td>\n",
       "      <td>None</td>\n",
       "      <td>None</td>\n",
       "      <td>None</td>\n",
       "      <td>True</td>\n",
       "      <td>每個項目 $33.00 - $4,990.00</td>\n",
       "      <td>Social Point</td>\n",
       "      <td>7983791851050974650</td>\n",
       "      <td>info@socialpoint.es</td>\n",
       "      <td>https://www.socialpoint.es</td>\n",
       "      <td>Llacuna 166,\\nPlanta 10\\n08018 Barcelona\\nSpain</td>\n",
       "      <td>https://www.take2games.com/privacy/</td>\n",
       "      <td>模擬</td>\n",
       "      <td>GAME_SIMULATION</td>\n",
       "      <td>https://play-lh.googleusercontent.com/V6UAtFBy...</td>\n",
       "      <td>https://play-lh.googleusercontent.com/Pqd0LYX_...</td>\n",
       "      <td>[https://play-lh.googleusercontent.com/bDIkYJw...</td>\n",
       "      <td>https://www.youtube.com/embed/go3wt6_EDwE?ps=p...</td>\n",
       "      <td>https://play-lh.googleusercontent.com/Pqd0LYX_...</td>\n",
       "      <td>7 歲以上</td>\n",
       "      <td>輕度暴力</td>\n",
       "      <td>True</td>\n",
       "      <td>True</td>\n",
       "      <td>2013年7月3日</td>\n",
       "      <td>1678697619</td>\n",
       "      <td>23.2.3</td>\n",
       "      <td>es.socialpoint.DragonCity</td>\n",
       "      <td>https://play.google.com/store/apps/details?id=...</td>\n",
       "    </tr>\n",
       "    <tr>\n",
       "      <th>7</th>\n",
       "      <td>飢餓鯊：世界 (Hungry Shark World)</td>\n",
       "      <td>&lt;b&gt;Shark Week 的官方遊戲!&lt;/b&gt;\\r\\n\\r\\n&lt;i&gt;***鯊魚們回來了！而...</td>\n",
       "      <td>&lt;b&gt;Shark Week 的官方遊戲!&lt;/b&gt;&lt;br&gt;&lt;br&gt;&lt;i&gt;***鯊魚們回來了！而...</td>\n",
       "      <td>無盡獵殺，想活命就得吃</td>\n",
       "      <td>100,000,000+</td>\n",
       "      <td>100000000</td>\n",
       "      <td>147946583</td>\n",
       "      <td>4.304381</td>\n",
       "      <td>2107188</td>\n",
       "      <td>2933</td>\n",
       "      <td>[205571, 55034, 114925, 247656, 1483513]</td>\n",
       "      <td>0</td>\n",
       "      <td>True</td>\n",
       "      <td>TWD</td>\n",
       "      <td>False</td>\n",
       "      <td>None</td>\n",
       "      <td>None</td>\n",
       "      <td>None</td>\n",
       "      <td>True</td>\n",
       "      <td>每個項目 $33.00 - $3,290.00</td>\n",
       "      <td>Ubisoft Entertainment</td>\n",
       "      <td>4647998716943242763</td>\n",
       "      <td>android.support@ubisoft.com</td>\n",
       "      <td>https://www.ubisoft.com/</td>\n",
       "      <td>UBISOFT MOBILE GAMES\\n2 avenue Pasteur,\\nSaint...</td>\n",
       "      <td>https://legal.ubi.com/privacypolicy/</td>\n",
       "      <td>街機</td>\n",
       "      <td>GAME_ARCADE</td>\n",
       "      <td>https://play-lh.googleusercontent.com/eBRbBBK4...</td>\n",
       "      <td>https://play-lh.googleusercontent.com/bovebPs5...</td>\n",
       "      <td>[https://play-lh.googleusercontent.com/tDgmwZq...</td>\n",
       "      <td>https://www.youtube.com/embed/faJGih_TOKY?ps=p...</td>\n",
       "      <td>https://play-lh.googleusercontent.com/bovebPs5...</td>\n",
       "      <td>12 歲以上</td>\n",
       "      <td>中度暴力</td>\n",
       "      <td>True</td>\n",
       "      <td>True</td>\n",
       "      <td>2016年5月4日</td>\n",
       "      <td>1678732121</td>\n",
       "      <td>5.0.2</td>\n",
       "      <td>com.ubisoft.hungrysharkworld</td>\n",
       "      <td>https://play.google.com/store/apps/details?id=...</td>\n",
       "    </tr>\n",
       "    <tr>\n",
       "      <th>8</th>\n",
       "      <td>狂野飆車9：競速傳奇</td>\n",
       "      <td>在《狂野飆車9：競速傳奇》遊戲中，駕駛Ferrari、Porsche、Lamborghini...</td>\n",
       "      <td>在《狂野飆車9：競速傳奇》遊戲中，駕駛Ferrari、Porsche、Lamborghini...</td>\n",
       "      <td>擁有高級豪華汽車品牌授權的多人在線街頭賽車遊戲</td>\n",
       "      <td>100,000,000+</td>\n",
       "      <td>100000000</td>\n",
       "      <td>108149762</td>\n",
       "      <td>4.064408</td>\n",
       "      <td>2625721</td>\n",
       "      <td>7417</td>\n",
       "      <td>[435953, 70240, 126191, 249194, 1743812]</td>\n",
       "      <td>0</td>\n",
       "      <td>True</td>\n",
       "      <td>TWD</td>\n",
       "      <td>False</td>\n",
       "      <td>None</td>\n",
       "      <td>None</td>\n",
       "      <td>None</td>\n",
       "      <td>True</td>\n",
       "      <td>每個項目 $33.00 - $3,290.00</td>\n",
       "      <td>Gameloft SE</td>\n",
       "      <td>4826827787946964969</td>\n",
       "      <td>android.support@gameloft.com</td>\n",
       "      <td>http://www.gameloft.com/</td>\n",
       "      <td>14 rue Auber 75009 Paris</td>\n",
       "      <td>http://www.gameloft.com/privacy-notice/</td>\n",
       "      <td>賽車遊戲</td>\n",
       "      <td>GAME_RACING</td>\n",
       "      <td>https://play-lh.googleusercontent.com/PJo-zZiP...</td>\n",
       "      <td>https://play-lh.googleusercontent.com/J1zWiWga...</td>\n",
       "      <td>[https://play-lh.googleusercontent.com/iXhNqaa...</td>\n",
       "      <td>https://www.youtube.com/embed/Jyi4Mr47Ozw?ps=p...</td>\n",
       "      <td>https://play-lh.googleusercontent.com/J1zWiWga...</td>\n",
       "      <td>7 歲以上</td>\n",
       "      <td>輕度暴力, 隱含的暴力</td>\n",
       "      <td>True</td>\n",
       "      <td>True</td>\n",
       "      <td>2018年7月4日</td>\n",
       "      <td>1675678892</td>\n",
       "      <td>3.9.0j</td>\n",
       "      <td>com.gameloft.android.ANMP.GloftA9HM</td>\n",
       "      <td>https://play.google.com/store/apps/details?id=...</td>\n",
       "    </tr>\n",
       "    <tr>\n",
       "      <th>9</th>\n",
       "      <td>Hungry Shark Evolution</td>\n",
       "      <td>我們是 Shark Week 的官方遊戲 - 週週都活得像 Shark Week 一樣精彩！...</td>\n",
       "      <td>我們是 Shark Week 的官方遊戲 - 週週都活得像 Shark Week 一樣精彩！...</td>\n",
       "      <td>演變成頂級掠食者</td>\n",
       "      <td>100,000,000+</td>\n",
       "      <td>100000000</td>\n",
       "      <td>467068755</td>\n",
       "      <td>4.352118</td>\n",
       "      <td>7493266</td>\n",
       "      <td>9201</td>\n",
       "      <td>[628105, 174326, 479940, 858853, 5351678]</td>\n",
       "      <td>0</td>\n",
       "      <td>True</td>\n",
       "      <td>TWD</td>\n",
       "      <td>False</td>\n",
       "      <td>None</td>\n",
       "      <td>None</td>\n",
       "      <td>None</td>\n",
       "      <td>True</td>\n",
       "      <td>每個項目 $33.00 - $3,290.00</td>\n",
       "      <td>Ubisoft Entertainment</td>\n",
       "      <td>4647998716943242763</td>\n",
       "      <td>android.support@ubisoft.com</td>\n",
       "      <td>https://www.ubisoft.com/</td>\n",
       "      <td>UBISOFT MOBILE GAMES\\n2 avenue Pasteur,\\nSaint...</td>\n",
       "      <td>https://legal.ubi.com/privacypolicy</td>\n",
       "      <td>街機</td>\n",
       "      <td>GAME_ARCADE</td>\n",
       "      <td>https://play-lh.googleusercontent.com/kBng9_C4...</td>\n",
       "      <td>https://play-lh.googleusercontent.com/rWBUqnz9...</td>\n",
       "      <td>[https://play-lh.googleusercontent.com/6rHthw3...</td>\n",
       "      <td>https://www.youtube.com/embed/FbZ_PBW144Q?ps=p...</td>\n",
       "      <td>https://play-lh.googleusercontent.com/rWBUqnz9...</td>\n",
       "      <td>16 歲以上</td>\n",
       "      <td>極度暴力</td>\n",
       "      <td>True</td>\n",
       "      <td>True</td>\n",
       "      <td>2013年2月22日</td>\n",
       "      <td>1678698599</td>\n",
       "      <td>Varies with device</td>\n",
       "      <td>com.fgol.HungrySharkEvolution</td>\n",
       "      <td>https://play.google.com/store/apps/details?id=...</td>\n",
       "    </tr>\n",
       "  </tbody>\n",
       "</table>\n",
       "</div>"
      ],
      "text/plain": [
       "                         title  \\\n",
       "0              Mario Kart Tour   \n",
       "1                  Coin Master   \n",
       "2                       Roblox   \n",
       "3                         糖果傳奇   \n",
       "4                  可口的披薩，美味的披薩   \n",
       "5         動物王者：趣味大逃殺遊戲 (Zooba)   \n",
       "6             龍城 (Dragon City)   \n",
       "7  飢餓鯊：世界 (Hungry Shark World)   \n",
       "8                   狂野飆車9：競速傳奇   \n",
       "9       Hungry Shark Evolution   \n",
       "\n",
       "                                         description  \\\n",
       "0  ■可供大家一起同樂的多人遊玩！\\r\\n現在可以和《瑪利歐賽車 巡迴賽》中登錄的好友或是附近的...   \n",
       "1  與你的Facebook好友以及世界各地的上百萬位玩家一起，加入攻擊、轉盤拉霸與突襲，將你的維...   \n",
       "2  在 Roblox 這個終極虛擬宇宙裡，您可以創作、分享及化身為您心目中的自己。我們的全球社群...   \n",
       "3  馬上來玩《糖果傳奇》吧！這是一款鼎鼎有名的益智遊戲，全世界的百萬玩家莫不深深愛上這款遊戲。\\...   \n",
       "4  想體驗開一家屬於自己的披薩店的感覺嗎 ？「可口的披薩，美味的披薩」滿足你的一切想像！盡你所能...   \n",
       "5  在這款趣味線上多人大逃殺遊戲中，你能成為堅守到最後的人嗎？\\r\\n\\r\\n<b>🐾 和好友一...   \n",
       "6  準備好成為馭龍大師，在這款育龍遊戲中培育出一支噴火龍大軍了嗎？\\r\\n \\r\\n在浮空島嶼上...   \n",
       "7  <b>Shark Week 的官方遊戲!</b>\\r\\n\\r\\n<i>***鯊魚們回來了！而...   \n",
       "8  在《狂野飆車9：競速傳奇》遊戲中，駕駛Ferrari、Porsche、Lamborghini...   \n",
       "9  我們是 Shark Week 的官方遊戲 - 週週都活得像 Shark Week 一樣精彩！...   \n",
       "\n",
       "                                     descriptionHTML  \\\n",
       "0  ■可供大家一起同樂的多人遊玩！<br>現在可以和《瑪利歐賽車 巡迴賽》中登錄的好友或是附近的...   \n",
       "1  與你的Facebook好友以及世界各地的上百萬位玩家一起，加入攻擊、轉盤拉霸與突襲，將你的維...   \n",
       "2  在 Roblox 這個終極虛擬宇宙裡，您可以創作、分享及化身為您心目中的自己。我們的全球社群...   \n",
       "3  馬上來玩《糖果傳奇》吧！這是一款鼎鼎有名的益智遊戲，全世界的百萬玩家莫不深深愛上這款遊戲。<...   \n",
       "4  想體驗開一家屬於自己的披薩店的感覺嗎 ？「可口的披薩，美味的披薩」滿足你的一切想像！盡你所能...   \n",
       "5  在這款趣味線上多人大逃殺遊戲中，你能成為堅守到最後的人嗎？<br><br><b>🐾 和好友一...   \n",
       "6  準備好成為馭龍大師，在這款育龍遊戲中培育出一支噴火龍大軍了嗎？<br> <br>在浮空島嶼上...   \n",
       "7  <b>Shark Week 的官方遊戲!</b><br><br><i>***鯊魚們回來了！而...   \n",
       "8  在《狂野飆車9：競速傳奇》遊戲中，駕駛Ferrari、Porsche、Lamborghini...   \n",
       "9  我們是 Shark Week 的官方遊戲 - 週週都活得像 Shark Week 一樣精彩！...   \n",
       "\n",
       "                             summary        installs  minInstalls  \\\n",
       "0                        參加比賽，馳騁世界吧！    100,000,000+    100000000   \n",
       "1            歡迎來到 Coin Master！一起冒險吧！    100,000,000+    100000000   \n",
       "2    您在 Roblox 可以創作、共享體驗及化身為您心目中的自己。    500,000,000+    500000000   \n",
       "3               最甜蜜的益智游戏！调换和消除糖果来闯关！  1,000,000,000+   1000000000   \n",
       "4                        🍕 披薩店模擬遊戲 🍕    100,000,000+    100000000   \n",
       "5  在史詩級多人線上射擊動作 MOBA 明星遊戲中，亂鬥、對決和遊戲！     50,000,000+     50000000   \n",
       "6          在這款輕鬆有趣的培育龍遊戲中，收集島上各具特色的龍    100,000,000+    100000000   \n",
       "7                        無盡獵殺，想活命就得吃    100,000,000+    100000000   \n",
       "8            擁有高級豪華汽車品牌授權的多人在線街頭賽車遊戲    100,000,000+    100000000   \n",
       "9                           演變成頂級掠食者    100,000,000+    100000000   \n",
       "\n",
       "   realInstalls     score   ratings  reviews  \\\n",
       "0     113777070  3.983448   2093323     6854   \n",
       "1     239899559  4.183021   8340608    23976   \n",
       "2     716171068  4.234436  33812039    21609   \n",
       "3    1510707426  4.419023  35952528    92681   \n",
       "4     135828667  4.550769   1307181     1950   \n",
       "5      92591547  3.916054   1260767     3746   \n",
       "6     195668392  4.368760   9648727     5749   \n",
       "7     147946583  4.304381   2107188     2933   \n",
       "8     108149762  4.064408   2625721     7417   \n",
       "9     467068755  4.352118   7493266     9201   \n",
       "\n",
       "                                       histogram  price  free currency   sale  \\\n",
       "0        [379839, 70438, 97964, 200617, 1344102]      0  True      TWD  False   \n",
       "1     [996736, 228162, 531812, 1078488, 5505196]      0  True      TWD  False   \n",
       "2  [4809517, 706557, 1118167, 2285629, 24889702]      0  True      TWD  False   \n",
       "3  [2735755, 742583, 1805892, 4104634, 26563488]      0  True      TWD  False   \n",
       "4         [50252, 28052, 80323, 140667, 1007479]      0  True      TWD  False   \n",
       "5         [247380, 35662, 73975, 121701, 781781]      0  True      TWD  False   \n",
       "6     [804604, 217401, 528109, 1161965, 6935712]      0  True      TWD  False   \n",
       "7       [205571, 55034, 114925, 247656, 1483513]      0  True      TWD  False   \n",
       "8       [435953, 70240, 126191, 249194, 1743812]      0  True      TWD  False   \n",
       "9      [628105, 174326, 479940, 858853, 5351678]      0  True      TWD  False   \n",
       "\n",
       "  saleTime originalPrice saleText  offersIAP         inAppProductPrice  \\\n",
       "0     None          None     None       True   每個項目 $70.00 - $2,290.00   \n",
       "1     None          None     None       True  每個項目 $33.00 - $11,600.00   \n",
       "2     None          None     None       True   每個項目 $17.00 - $6,590.00   \n",
       "3     None          None     None       True   每個項目 $30.00 - $4,990.00   \n",
       "4     None          None     None       True   每個項目 $29.00 - $2,930.00   \n",
       "5     None          None     None       True  每個項目 $31.00 - $11,500.00   \n",
       "6     None          None     None       True   每個項目 $33.00 - $4,990.00   \n",
       "7     None          None     None       True   每個項目 $33.00 - $3,290.00   \n",
       "8     None          None     None       True   每個項目 $33.00 - $3,290.00   \n",
       "9     None          None     None       True   每個項目 $33.00 - $3,290.00   \n",
       "\n",
       "               developer          developerId  \\\n",
       "0     Nintendo Co., Ltd.  7277267556905944956   \n",
       "1            Moon Active  6898760406631171989   \n",
       "2     Roblox Corporation  5360036014478858866   \n",
       "3                   King  6577204690045492686   \n",
       "4               TapBlaze  7300020765194314153   \n",
       "5       Wildlife Studios  7486557340409834297   \n",
       "6           Social Point  7983791851050974650   \n",
       "7  Ubisoft Entertainment  4647998716943242763   \n",
       "8            Gameloft SE  4826827787946964969   \n",
       "9  Ubisoft Entertainment  4647998716943242763   \n",
       "\n",
       "                         developerEmail                  developerWebsite  \\\n",
       "0  mariokarttour-support@nintendo.co.jp        https://mariokarttour.com/   \n",
       "1            support@coinmastergame.com     http://moonactive.zendesk.com   \n",
       "2                       info@roblox.com             http://www.roblox.com   \n",
       "3          candycrush.techhelp@king.com   http://candycrushsaga.com/help/   \n",
       "4                    pizza@tapblaze.com           http://www.tapblaze.com   \n",
       "5      zoobasupport@wildlifestudios.com  https://www.wildlifestudios.com/   \n",
       "6                   info@socialpoint.es        https://www.socialpoint.es   \n",
       "7           android.support@ubisoft.com          https://www.ubisoft.com/   \n",
       "8          android.support@gameloft.com          http://www.gameloft.com/   \n",
       "9           android.support@ubisoft.com          https://www.ubisoft.com/   \n",
       "\n",
       "                                    developerAddress  \\\n",
       "0                                 京都府京都市南区上鳥羽鉾立町11-1   \n",
       "1                   Mikve Israel St 7, Tel Aviv-Yafo   \n",
       "2         970 Park Place\\nSan Mateo, CA 94403\\n(USA)   \n",
       "3  King.com Limited\\nAragon Business Centre, Leve...   \n",
       "4  11901 Santa Monica Blvd\\nSte 507\\nLos Angeles,...   \n",
       "5  Block D, Iveagh Court Harcourt Road Dublin 2 D...   \n",
       "6    Llacuna 166,\\nPlanta 10\\n08018 Barcelona\\nSpain   \n",
       "7  UBISOFT MOBILE GAMES\\n2 avenue Pasteur,\\nSaint...   \n",
       "8                           14 rue Auber 75009 Paris   \n",
       "9  UBISOFT MOBILE GAMES\\n2 avenue Pasteur,\\nSaint...   \n",
       "\n",
       "                                       privacyPolicy genre          genreId  \\\n",
       "0  https://support.mariokarttour.com/application_...    動作      GAME_ACTION   \n",
       "1   https://static.moonactive.net/legal/privacy.html    休閒      GAME_CASUAL   \n",
       "2            http://www.roblox.com/info/Privacy.aspx    冒險   GAME_ADVENTURE   \n",
       "3                     https://king.com/privacyPolicy    休閒      GAME_CASUAL   \n",
       "4      http://www.tapblaze.com/about/privacy-policy/    休閒      GAME_CASUAL   \n",
       "5        https://wildlifestudios.com/privacy-policy/    動作      GAME_ACTION   \n",
       "6                https://www.take2games.com/privacy/    模擬  GAME_SIMULATION   \n",
       "7               https://legal.ubi.com/privacypolicy/    街機      GAME_ARCADE   \n",
       "8            http://www.gameloft.com/privacy-notice/  賽車遊戲      GAME_RACING   \n",
       "9                https://legal.ubi.com/privacypolicy    街機      GAME_ARCADE   \n",
       "\n",
       "                                                icon  \\\n",
       "0  https://play-lh.googleusercontent.com/bqGYFh6P...   \n",
       "1  https://play-lh.googleusercontent.com/Gpp87vMy...   \n",
       "2  https://play-lh.googleusercontent.com/WNWZaxi9...   \n",
       "3  https://play-lh.googleusercontent.com/gU9NKwpg...   \n",
       "4  https://play-lh.googleusercontent.com/pRZ83NYu...   \n",
       "5  https://play-lh.googleusercontent.com/I3bp1APx...   \n",
       "6  https://play-lh.googleusercontent.com/V6UAtFBy...   \n",
       "7  https://play-lh.googleusercontent.com/eBRbBBK4...   \n",
       "8  https://play-lh.googleusercontent.com/PJo-zZiP...   \n",
       "9  https://play-lh.googleusercontent.com/kBng9_C4...   \n",
       "\n",
       "                                         headerImage  \\\n",
       "0  https://play-lh.googleusercontent.com/zBsphZWJ...   \n",
       "1  https://play-lh.googleusercontent.com/fbECZUbO...   \n",
       "2  https://play-lh.googleusercontent.com/e7sQyywl...   \n",
       "3  https://play-lh.googleusercontent.com/nSihWGGg...   \n",
       "4  https://play-lh.googleusercontent.com/DEJ7Q0-R...   \n",
       "5  https://play-lh.googleusercontent.com/Jt0Kh_e8...   \n",
       "6  https://play-lh.googleusercontent.com/Pqd0LYX_...   \n",
       "7  https://play-lh.googleusercontent.com/bovebPs5...   \n",
       "8  https://play-lh.googleusercontent.com/J1zWiWga...   \n",
       "9  https://play-lh.googleusercontent.com/rWBUqnz9...   \n",
       "\n",
       "                                         screenshots  \\\n",
       "0  [https://play-lh.googleusercontent.com/lvVJkJt...   \n",
       "1  [https://play-lh.googleusercontent.com/ssCgXLy...   \n",
       "2  [https://play-lh.googleusercontent.com/ELjt7-C...   \n",
       "3  [https://play-lh.googleusercontent.com/uM9H6BM...   \n",
       "4  [https://play-lh.googleusercontent.com/AWyjKNO...   \n",
       "5  [https://play-lh.googleusercontent.com/tSPFop7...   \n",
       "6  [https://play-lh.googleusercontent.com/bDIkYJw...   \n",
       "7  [https://play-lh.googleusercontent.com/tDgmwZq...   \n",
       "8  [https://play-lh.googleusercontent.com/iXhNqaa...   \n",
       "9  [https://play-lh.googleusercontent.com/6rHthw3...   \n",
       "\n",
       "                                               video  \\\n",
       "0  https://www.youtube.com/embed/ZwEalAfEbYw?ps=p...   \n",
       "1  https://www.youtube.com/embed/STPiRTKOlyA?ps=p...   \n",
       "2  https://www.youtube.com/embed/HsiMDb-mn5s?ps=p...   \n",
       "3  https://www.youtube.com/embed/mgMFtSAegVQ?ps=p...   \n",
       "4  https://www.youtube.com/embed/97VS6SBDcOA?ps=p...   \n",
       "5  https://www.youtube.com/embed/JnUb2qyG_GQ?ps=p...   \n",
       "6  https://www.youtube.com/embed/go3wt6_EDwE?ps=p...   \n",
       "7  https://www.youtube.com/embed/faJGih_TOKY?ps=p...   \n",
       "8  https://www.youtube.com/embed/Jyi4Mr47Ozw?ps=p...   \n",
       "9  https://www.youtube.com/embed/FbZ_PBW144Q?ps=p...   \n",
       "\n",
       "                                          videoImage contentRating  \\\n",
       "0  https://play-lh.googleusercontent.com/zBsphZWJ...         3 歲以上   \n",
       "1  https://play-lh.googleusercontent.com/fbECZUbO...        12 歲以上   \n",
       "2  https://play-lh.googleusercontent.com/e7sQyywl...        12 歲以上   \n",
       "3  https://play-lh.googleusercontent.com/nSihWGGg...         3 歲以上   \n",
       "4  https://play-lh.googleusercontent.com/DEJ7Q0-R...         3 歲以上   \n",
       "5  https://play-lh.googleusercontent.com/Jt0Kh_e8...         7 歲以上   \n",
       "6  https://play-lh.googleusercontent.com/Pqd0LYX_...         7 歲以上   \n",
       "7  https://play-lh.googleusercontent.com/bovebPs5...        12 歲以上   \n",
       "8  https://play-lh.googleusercontent.com/J1zWiWga...         7 歲以上   \n",
       "9  https://play-lh.googleusercontent.com/rWBUqnz9...        16 歲以上   \n",
       "\n",
       "  contentRatingDescription  adSupported  containsAds     released     updated  \\\n",
       "0                     None        False        False   2019年9月24日  1674636501   \n",
       "1                     模擬賭博        False        False    2016年4月9日  1678618400   \n",
       "2                   建議家長指導        False        False   2014年7月16日  1678986832   \n",
       "3                     None         True         True  2012年11月15日  1678456384   \n",
       "4                     None         True         True   2015年3月11日  1678950922   \n",
       "5                     輕度暴力        False        False   2019年9月19日  1678194474   \n",
       "6                     輕度暴力         True         True    2013年7月3日  1678697619   \n",
       "7                     中度暴力         True         True    2016年5月4日  1678732121   \n",
       "8              輕度暴力, 隱含的暴力         True         True    2018年7月4日  1675678892   \n",
       "9                     極度暴力         True         True   2013年2月22日  1678698599   \n",
       "\n",
       "              version                                        appId  \\\n",
       "0               3.2.1                            com.nintendo.zaka   \n",
       "1            3.5.1070                    com.moonactive.coinmaster   \n",
       "2           2.567.544                            com.roblox.client   \n",
       "3           1.248.0.1                      com.king.candycrushsaga   \n",
       "4              4.21.1                   com.tapblaze.pizzabusiness   \n",
       "5               4.5.0  com.wildlife.games.battle.royale.free.zooba   \n",
       "6              23.2.3                    es.socialpoint.DragonCity   \n",
       "7               5.0.2                 com.ubisoft.hungrysharkworld   \n",
       "8              3.9.0j          com.gameloft.android.ANMP.GloftA9HM   \n",
       "9  Varies with device                com.fgol.HungrySharkEvolution   \n",
       "\n",
       "                                                 url  \n",
       "0  https://play.google.com/store/apps/details?id=...  \n",
       "1  https://play.google.com/store/apps/details?id=...  \n",
       "2  https://play.google.com/store/apps/details?id=...  \n",
       "3  https://play.google.com/store/apps/details?id=...  \n",
       "4  https://play.google.com/store/apps/details?id=...  \n",
       "5  https://play.google.com/store/apps/details?id=...  \n",
       "6  https://play.google.com/store/apps/details?id=...  \n",
       "7  https://play.google.com/store/apps/details?id=...  \n",
       "8  https://play.google.com/store/apps/details?id=...  \n",
       "9  https://play.google.com/store/apps/details?id=...  "
      ]
     },
     "execution_count": 4,
     "metadata": {},
     "output_type": "execute_result"
    }
   ],
   "source": [
    "pd.set_option('display.max_columns',None)\n",
    "\n",
    "app_infos_df = pd.DataFrame(app_infos)\n",
    "\n",
    "app_infos_df"
   ]
  },
  {
   "cell_type": "code",
   "execution_count": 48,
   "id": "fed00763",
   "metadata": {},
   "outputs": [
    {
     "data": {
      "text/plain": [
       "0                Mario Kart Tour\n",
       "1                    Coin Master\n",
       "2                         Roblox\n",
       "3                           糖果傳奇\n",
       "4                    可口的披薩，美味的披薩\n",
       "5           動物王者：趣味大逃殺遊戲 (Zooba)\n",
       "6               龍城 (Dragon City)\n",
       "7    飢餓鯊：世界 (Hungry Shark World)\n",
       "8                     狂野飆車9：競速傳奇\n",
       "9         Hungry Shark Evolution\n",
       "Name: title, dtype: object"
      ]
     },
     "execution_count": 48,
     "metadata": {},
     "output_type": "execute_result"
    }
   ],
   "source": [
    "app_infos_df['title']"
   ]
  },
  {
   "cell_type": "code",
   "execution_count": 6,
   "id": "f7f81600",
   "metadata": {},
   "outputs": [
    {
     "data": {
      "text/plain": [
       "pandas.core.series.Series"
      ]
     },
     "execution_count": 6,
     "metadata": {},
     "output_type": "execute_result"
    }
   ],
   "source": [
    "type(app_infos_df[\"title\"])"
   ]
  },
  {
   "cell_type": "code",
   "execution_count": 10,
   "id": "a872e84a",
   "metadata": {},
   "outputs": [],
   "source": [
    "#將資料從series轉成list形式\n",
    "\n",
    "#遊戲名稱\n",
    "name = list(app_infos_df['title'])\n",
    "\n",
    "#評分\n",
    "score = list(app_infos_df['score'])\n",
    "avg_score = np.mean(score)\n",
    "\n",
    "#實際安裝\n",
    "real = list(app_infos_df['realInstalls'])\n",
    "avg_real = np.mean(real)"
   ]
  },
  {
   "cell_type": "code",
   "execution_count": 37,
   "id": "b829b1c2",
   "metadata": {},
   "outputs": [
    {
     "data": {
      "text/plain": [
       "4.2376419599999995"
      ]
     },
     "execution_count": 37,
     "metadata": {},
     "output_type": "execute_result"
    }
   ],
   "source": [
    "avg_score"
   ]
  },
  {
   "cell_type": "code",
   "execution_count": 35,
   "id": "3bd22bb4",
   "metadata": {},
   "outputs": [
    {
     "data": {
      "text/plain": [
       "[3.9834476,\n",
       " 4.1830215,\n",
       " 4.234436,\n",
       " 4.4190235,\n",
       " 4.5507693,\n",
       " 3.9160545,\n",
       " 4.36876,\n",
       " 4.3043814,\n",
       " 4.0644083,\n",
       " 4.3521175]"
      ]
     },
     "execution_count": 35,
     "metadata": {},
     "output_type": "execute_result"
    }
   ],
   "source": [
    "score_list"
   ]
  },
  {
   "cell_type": "code",
   "execution_count": 33,
   "id": "e5fe3cb6",
   "metadata": {},
   "outputs": [
    {
     "data": {
      "text/plain": [
       "[113777070,\n",
       " 239899559,\n",
       " 716171068,\n",
       " 1510707426,\n",
       " 135828667,\n",
       " 92591547,\n",
       " 195668392,\n",
       " 147946583,\n",
       " 108149762,\n",
       " 467068755]"
      ]
     },
     "execution_count": 33,
     "metadata": {},
     "output_type": "execute_result"
    }
   ],
   "source": [
    "real_list"
   ]
  },
  {
   "cell_type": "code",
   "execution_count": 63,
   "id": "0d7178f2",
   "metadata": {},
   "outputs": [
    {
     "data": {
      "image/png": "[encoded data removed]",
      "text/plain": [
       "<Figure size 800x600 with 1 Axes>"
      ]
     },
     "metadata": {},
     "output_type": "display_data"
    }
   ],
   "source": [
    "#繪製散佈圖\n",
    "fig = plt.figure(figsize=(8,6))\n",
    "score_list = []\n",
    "real_list = []\n",
    "axe_list = []\n",
    "\n",
    "for i in range(len(name)):\n",
    "    if (score[i] > avg_score and real[i] > avg_real):\n",
    "        color = 'blue'\n",
    "        axe = '1_第一象限'\n",
    "    elif(score[i] <= avg_score and real[i] >= avg_real):\n",
    "        color = 'red'\n",
    "        axe = '2_第二象限'\n",
    "    elif(score[i] <= avg_score and real[i] <= avg_real):\n",
    "        color = 'black'\n",
    "        axe = '3_第三象限'\n",
    "    else:\n",
    "        color = 'green'\n",
    "        axe = '4_第四象限'\n",
    "    \n",
    "    plt.scatter(score[i],real[i],color=color)    #畫出各個資料點的位置\n",
    "    score_list.append(score[i])\n",
    "    real_list.append(real[i])\n",
    "    axe_list.append(axe)\n",
    "\n",
    "plt.axhline(avg_real,color='c',linestyle='dashed',linewidth=1)  # 利用真實的下載平均數當作中心去繪製x軸平均線 \n",
    "plt.axvline(avg_score,color = 'c',linestyle='dashed',linewidth=1) #利用評價的平均當作中心去繪製y軸平均線\n",
    "\n",
    "\n",
    "plt.title('GAME Analyze')\n",
    "plt.xlabel('score',fontsize = 15)\n",
    "plt.ylabel('realInstallent',fontsize = 15)\n",
    "plt.show()"
   ]
  },
  {
   "cell_type": "code",
   "execution_count": 50,
   "id": "e689b8fa",
   "metadata": {},
   "outputs": [
    {
     "data": {
      "text/html": [
       "<div>\n",
       "<style scoped>\n",
       "    .dataframe tbody tr th:only-of-type {\n",
       "        vertical-align: middle;\n",
       "    }\n",
       "\n",
       "    .dataframe tbody tr th {\n",
       "        vertical-align: top;\n",
       "    }\n",
       "\n",
       "    .dataframe thead th {\n",
       "        text-align: right;\n",
       "    }\n",
       "</style>\n",
       "<table border=\"1\" class=\"dataframe\">\n",
       "  <thead>\n",
       "    <tr style=\"text-align: right;\">\n",
       "      <th></th>\n",
       "      <th>評價</th>\n",
       "      <th>下載次數</th>\n",
       "      <th>象限</th>\n",
       "      <th>名稱</th>\n",
       "    </tr>\n",
       "  </thead>\n",
       "  <tbody>\n",
       "    <tr>\n",
       "      <th>3</th>\n",
       "      <td>4.419023</td>\n",
       "      <td>1510707426</td>\n",
       "      <td>1_第一象限</td>\n",
       "      <td>糖果傳奇</td>\n",
       "    </tr>\n",
       "    <tr>\n",
       "      <th>9</th>\n",
       "      <td>4.352118</td>\n",
       "      <td>467068755</td>\n",
       "      <td>1_第一象限</td>\n",
       "      <td>Hungry Shark Evolution</td>\n",
       "    </tr>\n",
       "    <tr>\n",
       "      <th>2</th>\n",
       "      <td>4.234436</td>\n",
       "      <td>716171068</td>\n",
       "      <td>2_第二象限</td>\n",
       "      <td>Roblox</td>\n",
       "    </tr>\n",
       "    <tr>\n",
       "      <th>0</th>\n",
       "      <td>3.983448</td>\n",
       "      <td>113777070</td>\n",
       "      <td>3_第三象限</td>\n",
       "      <td>Mario Kart Tour</td>\n",
       "    </tr>\n",
       "    <tr>\n",
       "      <th>1</th>\n",
       "      <td>4.183021</td>\n",
       "      <td>239899559</td>\n",
       "      <td>3_第三象限</td>\n",
       "      <td>Coin Master</td>\n",
       "    </tr>\n",
       "    <tr>\n",
       "      <th>5</th>\n",
       "      <td>3.916054</td>\n",
       "      <td>92591547</td>\n",
       "      <td>3_第三象限</td>\n",
       "      <td>動物王者：趣味大逃殺遊戲 (Zooba)</td>\n",
       "    </tr>\n",
       "    <tr>\n",
       "      <th>8</th>\n",
       "      <td>4.064408</td>\n",
       "      <td>108149762</td>\n",
       "      <td>3_第三象限</td>\n",
       "      <td>狂野飆車9：競速傳奇</td>\n",
       "    </tr>\n",
       "    <tr>\n",
       "      <th>4</th>\n",
       "      <td>4.550769</td>\n",
       "      <td>135828667</td>\n",
       "      <td>4_第四象限</td>\n",
       "      <td>可口的披薩，美味的披薩</td>\n",
       "    </tr>\n",
       "    <tr>\n",
       "      <th>6</th>\n",
       "      <td>4.368760</td>\n",
       "      <td>195668392</td>\n",
       "      <td>4_第四象限</td>\n",
       "      <td>龍城 (Dragon City)</td>\n",
       "    </tr>\n",
       "    <tr>\n",
       "      <th>7</th>\n",
       "      <td>4.304381</td>\n",
       "      <td>147946583</td>\n",
       "      <td>4_第四象限</td>\n",
       "      <td>飢餓鯊：世界 (Hungry Shark World)</td>\n",
       "    </tr>\n",
       "  </tbody>\n",
       "</table>\n",
       "</div>"
      ],
      "text/plain": [
       "         評價        下載次數      象限                           名稱\n",
       "3  4.419023  1510707426  1_第一象限                         糖果傳奇\n",
       "9  4.352118   467068755  1_第一象限       Hungry Shark Evolution\n",
       "2  4.234436   716171068  2_第二象限                       Roblox\n",
       "0  3.983448   113777070  3_第三象限              Mario Kart Tour\n",
       "1  4.183021   239899559  3_第三象限                  Coin Master\n",
       "5  3.916054    92591547  3_第三象限         動物王者：趣味大逃殺遊戲 (Zooba)\n",
       "8  4.064408   108149762  3_第三象限                   狂野飆車9：競速傳奇\n",
       "4  4.550769   135828667  4_第四象限                  可口的披薩，美味的披薩\n",
       "6  4.368760   195668392  4_第四象限             龍城 (Dragon City)\n",
       "7  4.304381   147946583  4_第四象限  飢餓鯊：世界 (Hungry Shark World)"
      ]
     },
     "execution_count": 50,
     "metadata": {},
     "output_type": "execute_result"
    }
   ],
   "source": [
    "score_df = pd.DataFrame(score_list,columns=['評價'])\n",
    "real_df = pd.DataFrame(real_list,columns = ['下載次數'])\n",
    "axe_df = pd.DataFrame(axe_list,columns = ['象限'])\n",
    "final = pd.concat([score_df,real_df,axe_df],axis=1)\n",
    "final = final.sort_values('象限')    #利用前面故意加的數值當名稱去排序\n",
    "final['名稱'] = app_infos_df['title']\n",
    "final"
   ]
  },
  {
   "cell_type": "code",
   "execution_count": null,
   "id": "ccc2ed25",
   "metadata": {},
   "outputs": [],
   "source": []
  },
  {
   "cell_type": "code",
   "execution_count": 56,
   "id": "23f7e1bf",
   "metadata": {},
   "outputs": [],
   "source": [
    "import plotly.express as px\n",
    "\n",
    "fig = px.scatter(final,\n",
    "                x = '評價',\n",
    "                y = '下載次數',\n",
    "                size = '評價',\n",
    "                color = '象限',\n",
    "                hover_data = ['名稱'])"
   ]
  },
  {
   "cell_type": "code",
   "execution_count": 61,
   "id": "6a54b84c",
   "metadata": {},
   "outputs": [
    {
     "data": {
      "application/vnd.plotly.v1+json": {
       "config": {
        "plotlyServerURL": "https://plot.ly"
       },
       "data": [
        {
         "customdata": [
          [
           "糖果傳奇"
          ],
          [
           "Hungry Shark Evolution"
          ]
         ],
         "hovertemplate": "象限=1_第一象限<br>評價=%{marker.size}<br>下載次數=%{y}<br>名稱=%{customdata[0]}<extra></extra>",
         "legendgroup": "1_第一象限",
         "marker": {
          "color": "#636efa",
          "size": [
           4.4190235,
           4.3521175
          ],
          "sizemode": "area",
          "sizeref": 0.011376923249999999,
          "symbol": "circle"
         },
         "mode": "markers",
         "name": "1_第一象限",
         "orientation": "v",
         "showlegend": true,
         "type": "scatter",
         "x": [
          4.4190235,
          4.3521175
         ],
         "xaxis": "x",
         "y": [
          1510707426,
          467068755
         ],
         "yaxis": "y"
        },
        {
         "customdata": [
          [
           "Roblox"
          ]
         ],
         "hovertemplate": "象限=2_第二象限<br>評價=%{marker.size}<br>下載次數=%{y}<br>名稱=%{customdata[0]}<extra></extra>",
         "legendgroup": "2_第二象限",
         "marker": {
          "color": "#EF553B",
          "size": [
           4.234436
          ],
          "sizemode": "area",
          "sizeref": 0.011376923249999999,
          "symbol": "circle"
         },
         "mode": "markers",
         "name": "2_第二象限",
         "orientation": "v",
         "showlegend": true,
         "type": "scatter",
         "x": [
          4.234436
         ],
         "xaxis": "x",
         "y": [
          716171068
         ],
         "yaxis": "y"
        },
        {
         "customdata": [
          [
           "Mario Kart Tour"
          ],
          [
           "Coin Master"
          ],
          [
           "動物王者：趣味大逃殺遊戲 (Zooba)"
          ],
          [
           "狂野飆車9：競速傳奇"
          ]
         ],
         "hovertemplate": "象限=3_第三象限<br>評價=%{marker.size}<br>下載次數=%{y}<br>名稱=%{customdata[0]}<extra></extra>",
         "legendgroup": "3_第三象限",
         "marker": {
          "color": "#00cc96",
          "size": [
           3.9834476,
           4.1830215,
           3.9160545,
           4.0644083
          ],
          "sizemode": "area",
          "sizeref": 0.011376923249999999,
          "symbol": "circle"
         },
         "mode": "markers",
         "name": "3_第三象限",
         "orientation": "v",
         "showlegend": true,
         "type": "scatter",
         "x": [
          3.9834476,
          4.1830215,
          3.9160545,
          4.0644083
         ],
         "xaxis": "x",
         "y": [
          113777070,
          239899559,
          92591547,
          108149762
         ],
         "yaxis": "y"
        },
        {
         "customdata": [
          [
           "可口的披薩，美味的披薩"
          ],
          [
           "龍城 (Dragon City)"
          ],
          [
           "飢餓鯊：世界 (Hungry Shark World)"
          ]
         ],
         "hovertemplate": "象限=4_第四象限<br>評價=%{marker.size}<br>下載次數=%{y}<br>名稱=%{customdata[0]}<extra></extra>",
         "legendgroup": "4_第四象限",
         "marker": {
          "color": "#ab63fa",
          "size": [
           4.5507693,
           4.36876,
           4.3043814
          ],
          "sizemode": "area",
          "sizeref": 0.011376923249999999,
          "symbol": "circle"
         },
         "mode": "markers",
         "name": "4_第四象限",
         "orientation": "v",
         "showlegend": true,
         "type": "scatter",
         "x": [
          4.5507693,
          4.36876,
          4.3043814
         ],
         "xaxis": "x",
         "y": [
          135828667,
          195668392,
          147946583
         ],
         "yaxis": "y"
        }
       ],
       "layout": {
        "legend": {
         "itemsizing": "constant",
         "title": {
          "text": "象限"
         },
         "tracegroupgap": 0
        },
        "margin": {
         "t": 60
        },
        "shapes": [
         {
          "line": {
           "color": "#FF00FF",
           "width": 5
          },
          "type": "line",
          "x0": 4.2376419599999995,
          "x1": 4.2376419599999995,
          "y0": 0,
          "y1": 1510707426
         },
         {
          "line": {
           "color": "#FF00FF",
           "width": 5
          },
          "type": "line",
          "x0": 0,
          "x1": 4.5507693,
          "y0": 372780882.9,
          "y1": 372780882.9
         }
        ],
        "template": {
         "data": {
          "bar": [
           {
            "error_x": {
             "color": "#2a3f5f"
            },
            "error_y": {
             "color": "#2a3f5f"
            },
            "marker": {
             "line": {
              "color": "#E5ECF6",
              "width": 0.5
             },
             "pattern": {
              "fillmode": "overlay",
              "size": 10,
              "solidity": 0.2
             }
            },
            "type": "bar"
           }
          ],
          "barpolar": [
           {
            "marker": {
             "line": {
              "color": "#E5ECF6",
              "width": 0.5
             },
             "pattern": {
              "fillmode": "overlay",
              "size": 10,
              "solidity": 0.2
             }
            },
            "type": "barpolar"
           }
          ],
          "carpet": [
           {
            "aaxis": {
             "endlinecolor": "#2a3f5f",
             "gridcolor": "white",
             "linecolor": "white",
             "minorgridcolor": "white",
             "startlinecolor": "#2a3f5f"
            },
            "baxis": {
             "endlinecolor": "#2a3f5f",
             "gridcolor": "white",
             "linecolor": "white",
             "minorgridcolor": "white",
             "startlinecolor": "#2a3f5f"
            },
            "type": "carpet"
           }
          ],
          "choropleth": [
           {
            "colorbar": {
             "outlinewidth": 0,
             "ticks": ""
            },
            "type": "choropleth"
           }
          ],
          "contour": [
           {
            "colorbar": {
             "outlinewidth": 0,
             "ticks": ""
            },
            "colorscale": [
             [
              0,
              "#0d0887"
             ],
             [
              0.1111111111111111,
              "#46039f"
             ],
             [
              0.2222222222222222,
              "#7201a8"
             ],
             [
              0.3333333333333333,
              "#9c179e"
             ],
             [
              0.4444444444444444,
              "#bd3786"
             ],
             [
              0.5555555555555556,
              "#d8576b"
             ],
             [
              0.6666666666666666,
              "#ed7953"
             ],
             [
              0.7777777777777778,
              "#fb9f3a"
             ],
             [
              0.8888888888888888,
              "#fdca26"
             ],
             [
              1,
              "#f0f921"
             ]
            ],
            "type": "contour"
           }
          ],
          "contourcarpet": [
           {
            "colorbar": {
             "outlinewidth": 0,
             "ticks": ""
            },
            "type": "contourcarpet"
           }
          ],
          "heatmap": [
           {
            "colorbar": {
             "outlinewidth": 0,
             "ticks": ""
            },
            "colorscale": [
             [
              0,
              "#0d0887"
             ],
             [
              0.1111111111111111,
              "#46039f"
             ],
             [
              0.2222222222222222,
              "#7201a8"
             ],
             [
              0.3333333333333333,
              "#9c179e"
             ],
             [
              0.4444444444444444,
              "#bd3786"
             ],
             [
              0.5555555555555556,
              "#d8576b"
             ],
             [
              0.6666666666666666,
              "#ed7953"
             ],
             [
              0.7777777777777778,
              "#fb9f3a"
             ],
             [
              0.8888888888888888,
              "#fdca26"
             ],
             [
              1,
              "#f0f921"
             ]
            ],
            "type": "heatmap"
           }
          ],
          "heatmapgl": [
           {
            "colorbar": {
             "outlinewidth": 0,
             "ticks": ""
            },
            "colorscale": [
             [
              0,
              "#0d0887"
             ],
             [
              0.1111111111111111,
              "#46039f"
             ],
             [
              0.2222222222222222,
              "#7201a8"
             ],
             [
              0.3333333333333333,
              "#9c179e"
             ],
             [
              0.4444444444444444,
              "#bd3786"
             ],
             [
              0.5555555555555556,
              "#d8576b"
             ],
             [
              0.6666666666666666,
              "#ed7953"
             ],
             [
              0.7777777777777778,
              "#fb9f3a"
             ],
             [
              0.8888888888888888,
              "#fdca26"
             ],
             [
              1,
              "#f0f921"
             ]
            ],
            "type": "heatmapgl"
           }
          ],
          "histogram": [
           {
            "marker": {
             "pattern": {
              "fillmode": "overlay",
              "size": 10,
              "solidity": 0.2
             }
            },
            "type": "histogram"
           }
          ],
          "histogram2d": [
           {
            "colorbar": {
             "outlinewidth": 0,
             "ticks": ""
            },
            "colorscale": [
             [
              0,
              "#0d0887"
             ],
             [
              0.1111111111111111,
              "#46039f"
             ],
             [
              0.2222222222222222,
              "#7201a8"
             ],
             [
              0.3333333333333333,
              "#9c179e"
             ],
             [
              0.4444444444444444,
              "#bd3786"
             ],
             [
              0.5555555555555556,
              "#d8576b"
             ],
             [
              0.6666666666666666,
              "#ed7953"
             ],
             [
              0.7777777777777778,
              "#fb9f3a"
             ],
             [
              0.8888888888888888,
              "#fdca26"
             ],
             [
              1,
              "#f0f921"
             ]
            ],
            "type": "histogram2d"
           }
          ],
          "histogram2dcontour": [
           {
            "colorbar": {
             "outlinewidth": 0,
             "ticks": ""
            },
            "colorscale": [
             [
              0,
              "#0d0887"
             ],
             [
              0.1111111111111111,
              "#46039f"
             ],
             [
              0.2222222222222222,
              "#7201a8"
             ],
             [
              0.3333333333333333,
              "#9c179e"
             ],
             [
              0.4444444444444444,
              "#bd3786"
             ],
             [
              0.5555555555555556,
              "#d8576b"
             ],
             [
              0.6666666666666666,
              "#ed7953"
             ],
             [
              0.7777777777777778,
              "#fb9f3a"
             ],
             [
              0.8888888888888888,
              "#fdca26"
             ],
             [
              1,
              "#f0f921"
             ]
            ],
            "type": "histogram2dcontour"
           }
          ],
          "mesh3d": [
           {
            "colorbar": {
             "outlinewidth": 0,
             "ticks": ""
            },
            "type": "mesh3d"
           }
          ],
          "parcoords": [
           {
            "line": {
             "colorbar": {
              "outlinewidth": 0,
              "ticks": ""
             }
            },
            "type": "parcoords"
           }
          ],
          "pie": [
           {
            "automargin": true,
            "type": "pie"
           }
          ],
          "scatter": [
           {
            "fillpattern": {
             "fillmode": "overlay",
             "size": 10,
             "solidity": 0.2
            },
            "type": "scatter"
           }
          ],
          "scatter3d": [
           {
            "line": {
             "colorbar": {
              "outlinewidth": 0,
              "ticks": ""
             }
            },
            "marker": {
             "colorbar": {
              "outlinewidth": 0,
              "ticks": ""
             }
            },
            "type": "scatter3d"
           }
          ],
          "scattercarpet": [
           {
            "marker": {
             "colorbar": {
              "outlinewidth": 0,
              "ticks": ""
             }
            },
            "type": "scattercarpet"
           }
          ],
          "scattergeo": [
           {
            "marker": {
             "colorbar": {
              "outlinewidth": 0,
              "ticks": ""
             }
            },
            "type": "scattergeo"
           }
          ],
          "scattergl": [
           {
            "marker": {
             "colorbar": {
              "outlinewidth": 0,
              "ticks": ""
             }
            },
            "type": "scattergl"
           }
          ],
          "scattermapbox": [
           {
            "marker": {
             "colorbar": {
              "outlinewidth": 0,
              "ticks": ""
             }
            },
            "type": "scattermapbox"
           }
          ],
          "scatterpolar": [
           {
            "marker": {
             "colorbar": {
              "outlinewidth": 0,
              "ticks": ""
             }
            },
            "type": "scatterpolar"
           }
          ],
          "scatterpolargl": [
           {
            "marker": {
             "colorbar": {
              "outlinewidth": 0,
              "ticks": ""
             }
            },
            "type": "scatterpolargl"
           }
          ],
          "scatterternary": [
           {
            "marker": {
             "colorbar": {
              "outlinewidth": 0,
              "ticks": ""
             }
            },
            "type": "scatterternary"
           }
          ],
          "surface": [
           {
            "colorbar": {
             "outlinewidth": 0,
             "ticks": ""
            },
            "colorscale": [
             [
              0,
              "#0d0887"
             ],
             [
              0.1111111111111111,
              "#46039f"
             ],
             [
              0.2222222222222222,
              "#7201a8"
             ],
             [
              0.3333333333333333,
              "#9c179e"
             ],
             [
              0.4444444444444444,
              "#bd3786"
             ],
             [
              0.5555555555555556,
              "#d8576b"
             ],
             [
              0.6666666666666666,
              "#ed7953"
             ],
             [
              0.7777777777777778,
              "#fb9f3a"
             ],
             [
              0.8888888888888888,
              "#fdca26"
             ],
             [
              1,
              "#f0f921"
             ]
            ],
            "type": "surface"
           }
          ],
          "table": [
           {
            "cells": {
             "fill": {
              "color": "#EBF0F8"
             },
             "line": {
              "color": "white"
             }
            },
            "header": {
             "fill": {
              "color": "#C8D4E3"
             },
             "line": {
              "color": "white"
             }
            },
            "type": "table"
           }
          ]
         },
         "layout": {
          "annotationdefaults": {
           "arrowcolor": "#2a3f5f",
           "arrowhead": 0,
           "arrowwidth": 1
          },
          "autotypenumbers": "strict",
          "coloraxis": {
           "colorbar": {
            "outlinewidth": 0,
            "ticks": ""
           }
          },
          "colorscale": {
           "diverging": [
            [
             0,
             "#8e0152"
            ],
            [
             0.1,
             "#c51b7d"
            ],
            [
             0.2,
             "#de77ae"
            ],
            [
             0.3,
             "#f1b6da"
            ],
            [
             0.4,
             "#fde0ef"
            ],
            [
             0.5,
             "#f7f7f7"
            ],
            [
             0.6,
             "#e6f5d0"
            ],
            [
             0.7,
             "#b8e186"
            ],
            [
             0.8,
             "#7fbc41"
            ],
            [
             0.9,
             "#4d9221"
            ],
            [
             1,
             "#276419"
            ]
           ],
           "sequential": [
            [
             0,
             "#0d0887"
            ],
            [
             0.1111111111111111,
             "#46039f"
            ],
            [
             0.2222222222222222,
             "#7201a8"
            ],
            [
             0.3333333333333333,
             "#9c179e"
            ],
            [
             0.4444444444444444,
             "#bd3786"
            ],
            [
             0.5555555555555556,
             "#d8576b"
            ],
            [
             0.6666666666666666,
             "#ed7953"
            ],
            [
             0.7777777777777778,
             "#fb9f3a"
            ],
            [
             0.8888888888888888,
             "#fdca26"
            ],
            [
             1,
             "#f0f921"
            ]
           ],
           "sequentialminus": [
            [
             0,
             "#0d0887"
            ],
            [
             0.1111111111111111,
             "#46039f"
            ],
            [
             0.2222222222222222,
             "#7201a8"
            ],
            [
             0.3333333333333333,
             "#9c179e"
            ],
            [
             0.4444444444444444,
             "#bd3786"
            ],
            [
             0.5555555555555556,
             "#d8576b"
            ],
            [
             0.6666666666666666,
             "#ed7953"
            ],
            [
             0.7777777777777778,
             "#fb9f3a"
            ],
            [
             0.8888888888888888,
             "#fdca26"
            ],
            [
             1,
             "#f0f921"
            ]
           ]
          },
          "colorway": [
           "#636efa",
           "#EF553B",
           "#00cc96",
           "#ab63fa",
           "#FFA15A",
           "#19d3f3",
           "#FF6692",
           "#B6E880",
           "#FF97FF",
           "#FECB52"
          ],
          "font": {
           "color": "#2a3f5f"
          },
          "geo": {
           "bgcolor": "white",
           "lakecolor": "white",
           "landcolor": "#E5ECF6",
           "showlakes": true,
           "showland": true,
           "subunitcolor": "white"
          },
          "hoverlabel": {
           "align": "left"
          },
          "hovermode": "closest",
          "mapbox": {
           "style": "light"
          },
          "paper_bgcolor": "white",
          "plot_bgcolor": "#E5ECF6",
          "polar": {
           "angularaxis": {
            "gridcolor": "white",
            "linecolor": "white",
            "ticks": ""
           },
           "bgcolor": "#E5ECF6",
           "radialaxis": {
            "gridcolor": "white",
            "linecolor": "white",
            "ticks": ""
           }
          },
          "scene": {
           "xaxis": {
            "backgroundcolor": "#E5ECF6",
            "gridcolor": "white",
            "gridwidth": 2,
            "linecolor": "white",
            "showbackground": true,
            "ticks": "",
            "zerolinecolor": "white"
           },
           "yaxis": {
            "backgroundcolor": "#E5ECF6",
            "gridcolor": "white",
            "gridwidth": 2,
            "linecolor": "white",
            "showbackground": true,
            "ticks": "",
            "zerolinecolor": "white"
           },
           "zaxis": {
            "backgroundcolor": "#E5ECF6",
            "gridcolor": "white",
            "gridwidth": 2,
            "linecolor": "white",
            "showbackground": true,
            "ticks": "",
            "zerolinecolor": "white"
           }
          },
          "shapedefaults": {
           "line": {
            "color": "#2a3f5f"
           }
          },
          "ternary": {
           "aaxis": {
            "gridcolor": "white",
            "linecolor": "white",
            "ticks": ""
           },
           "baxis": {
            "gridcolor": "white",
            "linecolor": "white",
            "ticks": ""
           },
           "bgcolor": "#E5ECF6",
           "caxis": {
            "gridcolor": "white",
            "linecolor": "white",
            "ticks": ""
           }
          },
          "title": {
           "x": 0.05
          },
          "xaxis": {
           "automargin": true,
           "gridcolor": "white",
           "linecolor": "white",
           "ticks": "",
           "title": {
            "standoff": 15
           },
           "zerolinecolor": "white",
           "zerolinewidth": 2
          },
          "yaxis": {
           "automargin": true,
           "gridcolor": "white",
           "linecolor": "white",
           "ticks": "",
           "title": {
            "standoff": 15
           },
           "zerolinecolor": "white",
           "zerolinewidth": 2
          }
         }
        },
        "title": {
         "text": "遊戲下載次數與評價分析"
        },
        "xaxis": {
         "anchor": "y",
         "domain": [
          0,
          1
         ],
         "title": {
          "text": "評價"
         }
        },
        "yaxis": {
         "anchor": "x",
         "domain": [
          0,
          1
         ],
         "title": {
          "text": "下載次數"
         }
        }
       }
      },
      "text/html": [
       "<div>                            <div id=\"cf51e7a0-c05d-4f83-b1da-85936c3a1577\" class=\"plotly-graph-div\" style=\"height:525px; width:100%;\"></div>            <script type=\"text/javascript\">                require([\"plotly\"], function(Plotly) {                    window.PLOTLYENV=window.PLOTLYENV || {};                                    if (document.getElementById(\"cf51e7a0-c05d-4f83-b1da-85936c3a1577\")) {                    Plotly.newPlot(                        \"cf51e7a0-c05d-4f83-b1da-85936c3a1577\",                        [{\"customdata\":[[\"\\u7cd6\\u679c\\u50b3\\u5947\"],[\"Hungry Shark Evolution\"]],\"hovertemplate\":\"\\u8c61\\u9650=1_\\u7b2c\\u4e00\\u8c61\\u9650<br>\\u8a55\\u50f9=%{marker.size}<br>\\u4e0b\\u8f09\\u6b21\\u6578=%{y}<br>\\u540d\\u7a31=%{customdata[0]}<extra></extra>\",\"legendgroup\":\"1_\\u7b2c\\u4e00\\u8c61\\u9650\",\"marker\":{\"color\":\"#636efa\",\"size\":[4.4190235,4.3521175],\"sizemode\":\"area\",\"sizeref\":0.011376923249999999,\"symbol\":\"circle\"},\"mode\":\"markers\",\"name\":\"1_\\u7b2c\\u4e00\\u8c61\\u9650\",\"orientation\":\"v\",\"showlegend\":true,\"x\":[4.4190235,4.3521175],\"xaxis\":\"x\",\"y\":[1510707426,467068755],\"yaxis\":\"y\",\"type\":\"scatter\"},{\"customdata\":[[\"Roblox\"]],\"hovertemplate\":\"\\u8c61\\u9650=2_\\u7b2c\\u4e8c\\u8c61\\u9650<br>\\u8a55\\u50f9=%{marker.size}<br>\\u4e0b\\u8f09\\u6b21\\u6578=%{y}<br>\\u540d\\u7a31=%{customdata[0]}<extra></extra>\",\"legendgroup\":\"2_\\u7b2c\\u4e8c\\u8c61\\u9650\",\"marker\":{\"color\":\"#EF553B\",\"size\":[4.234436],\"sizemode\":\"area\",\"sizeref\":0.011376923249999999,\"symbol\":\"circle\"},\"mode\":\"markers\",\"name\":\"2_\\u7b2c\\u4e8c\\u8c61\\u9650\",\"orientation\":\"v\",\"showlegend\":true,\"x\":[4.234436],\"xaxis\":\"x\",\"y\":[716171068],\"yaxis\":\"y\",\"type\":\"scatter\"},{\"customdata\":[[\"Mario Kart Tour\"],[\"Coin Master\"],[\"\\u52d5\\u7269\\u738b\\u8005\\uff1a\\u8da3\\u5473\\u5927\\u9003\\u6bba\\u904a\\u6232 (Zooba)\"],[\"\\u72c2\\u91ce\\u98c6\\u8eca9\\uff1a\\u7af6\\u901f\\u50b3\\u5947\"]],\"hovertemplate\":\"\\u8c61\\u9650=3_\\u7b2c\\u4e09\\u8c61\\u9650<br>\\u8a55\\u50f9=%{marker.size}<br>\\u4e0b\\u8f09\\u6b21\\u6578=%{y}<br>\\u540d\\u7a31=%{customdata[0]}<extra></extra>\",\"legendgroup\":\"3_\\u7b2c\\u4e09\\u8c61\\u9650\",\"marker\":{\"color\":\"#00cc96\",\"size\":[3.9834476,4.1830215,3.9160545,4.0644083],\"sizemode\":\"area\",\"sizeref\":0.011376923249999999,\"symbol\":\"circle\"},\"mode\":\"markers\",\"name\":\"3_\\u7b2c\\u4e09\\u8c61\\u9650\",\"orientation\":\"v\",\"showlegend\":true,\"x\":[3.9834476,4.1830215,3.9160545,4.0644083],\"xaxis\":\"x\",\"y\":[113777070,239899559,92591547,108149762],\"yaxis\":\"y\",\"type\":\"scatter\"},{\"customdata\":[[\"\\u53ef\\u53e3\\u7684\\u62ab\\u85a9\\uff0c\\u7f8e\\u5473\\u7684\\u62ab\\u85a9\"],[\"\\u9f8d\\u57ce (Dragon City)\"],[\"\\u98e2\\u9913\\u9bca\\uff1a\\u4e16\\u754c (Hungry Shark World)\"]],\"hovertemplate\":\"\\u8c61\\u9650=4_\\u7b2c\\u56db\\u8c61\\u9650<br>\\u8a55\\u50f9=%{marker.size}<br>\\u4e0b\\u8f09\\u6b21\\u6578=%{y}<br>\\u540d\\u7a31=%{customdata[0]}<extra></extra>\",\"legendgroup\":\"4_\\u7b2c\\u56db\\u8c61\\u9650\",\"marker\":{\"color\":\"#ab63fa\",\"size\":[4.5507693,4.36876,4.3043814],\"sizemode\":\"area\",\"sizeref\":0.011376923249999999,\"symbol\":\"circle\"},\"mode\":\"markers\",\"name\":\"4_\\u7b2c\\u56db\\u8c61\\u9650\",\"orientation\":\"v\",\"showlegend\":true,\"x\":[4.5507693,4.36876,4.3043814],\"xaxis\":\"x\",\"y\":[135828667,195668392,147946583],\"yaxis\":\"y\",\"type\":\"scatter\"}],                        {\"template\":{\"data\":{\"histogram2dcontour\":[{\"type\":\"histogram2dcontour\",\"colorbar\":{\"outlinewidth\":0,\"ticks\":\"\"},\"colorscale\":[[0.0,\"#0d0887\"],[0.1111111111111111,\"#46039f\"],[0.2222222222222222,\"#7201a8\"],[0.3333333333333333,\"#9c179e\"],[0.4444444444444444,\"#bd3786\"],[0.5555555555555556,\"#d8576b\"],[0.6666666666666666,\"#ed7953\"],[0.7777777777777778,\"#fb9f3a\"],[0.8888888888888888,\"#fdca26\"],[1.0,\"#f0f921\"]]}],\"choropleth\":[{\"type\":\"choropleth\",\"colorbar\":{\"outlinewidth\":0,\"ticks\":\"\"}}],\"histogram2d\":[{\"type\":\"histogram2d\",\"colorbar\":{\"outlinewidth\":0,\"ticks\":\"\"},\"colorscale\":[[0.0,\"#0d0887\"],[0.1111111111111111,\"#46039f\"],[0.2222222222222222,\"#7201a8\"],[0.3333333333333333,\"#9c179e\"],[0.4444444444444444,\"#bd3786\"],[0.5555555555555556,\"#d8576b\"],[0.6666666666666666,\"#ed7953\"],[0.7777777777777778,\"#fb9f3a\"],[0.8888888888888888,\"#fdca26\"],[1.0,\"#f0f921\"]]}],\"heatmap\":[{\"type\":\"heatmap\",\"colorbar\":{\"outlinewidth\":0,\"ticks\":\"\"},\"colorscale\":[[0.0,\"#0d0887\"],[0.1111111111111111,\"#46039f\"],[0.2222222222222222,\"#7201a8\"],[0.3333333333333333,\"#9c179e\"],[0.4444444444444444,\"#bd3786\"],[0.5555555555555556,\"#d8576b\"],[0.6666666666666666,\"#ed7953\"],[0.7777777777777778,\"#fb9f3a\"],[0.8888888888888888,\"#fdca26\"],[1.0,\"#f0f921\"]]}],\"heatmapgl\":[{\"type\":\"heatmapgl\",\"colorbar\":{\"outlinewidth\":0,\"ticks\":\"\"},\"colorscale\":[[0.0,\"#0d0887\"],[0.1111111111111111,\"#46039f\"],[0.2222222222222222,\"#7201a8\"],[0.3333333333333333,\"#9c179e\"],[0.4444444444444444,\"#bd3786\"],[0.5555555555555556,\"#d8576b\"],[0.6666666666666666,\"#ed7953\"],[0.7777777777777778,\"#fb9f3a\"],[0.8888888888888888,\"#fdca26\"],[1.0,\"#f0f921\"]]}],\"contourcarpet\":[{\"type\":\"contourcarpet\",\"colorbar\":{\"outlinewidth\":0,\"ticks\":\"\"}}],\"contour\":[{\"type\":\"contour\",\"colorbar\":{\"outlinewidth\":0,\"ticks\":\"\"},\"colorscale\":[[0.0,\"#0d0887\"],[0.1111111111111111,\"#46039f\"],[0.2222222222222222,\"#7201a8\"],[0.3333333333333333,\"#9c179e\"],[0.4444444444444444,\"#bd3786\"],[0.5555555555555556,\"#d8576b\"],[0.6666666666666666,\"#ed7953\"],[0.7777777777777778,\"#fb9f3a\"],[0.8888888888888888,\"#fdca26\"],[1.0,\"#f0f921\"]]}],\"surface\":[{\"type\":\"surface\",\"colorbar\":{\"outlinewidth\":0,\"ticks\":\"\"},\"colorscale\":[[0.0,\"#0d0887\"],[0.1111111111111111,\"#46039f\"],[0.2222222222222222,\"#7201a8\"],[0.3333333333333333,\"#9c179e\"],[0.4444444444444444,\"#bd3786\"],[0.5555555555555556,\"#d8576b\"],[0.6666666666666666,\"#ed7953\"],[0.7777777777777778,\"#fb9f3a\"],[0.8888888888888888,\"#fdca26\"],[1.0,\"#f0f921\"]]}],\"mesh3d\":[{\"type\":\"mesh3d\",\"colorbar\":{\"outlinewidth\":0,\"ticks\":\"\"}}],\"scatter\":[{\"fillpattern\":{\"fillmode\":\"overlay\",\"size\":10,\"solidity\":0.2},\"type\":\"scatter\"}],\"parcoords\":[{\"type\":\"parcoords\",\"line\":{\"colorbar\":{\"outlinewidth\":0,\"ticks\":\"\"}}}],\"scatterpolargl\":[{\"type\":\"scatterpolargl\",\"marker\":{\"colorbar\":{\"outlinewidth\":0,\"ticks\":\"\"}}}],\"bar\":[{\"error_x\":{\"color\":\"#2a3f5f\"},\"error_y\":{\"color\":\"#2a3f5f\"},\"marker\":{\"line\":{\"color\":\"#E5ECF6\",\"width\":0.5},\"pattern\":{\"fillmode\":\"overlay\",\"size\":10,\"solidity\":0.2}},\"type\":\"bar\"}],\"scattergeo\":[{\"type\":\"scattergeo\",\"marker\":{\"colorbar\":{\"outlinewidth\":0,\"ticks\":\"\"}}}],\"scatterpolar\":[{\"type\":\"scatterpolar\",\"marker\":{\"colorbar\":{\"outlinewidth\":0,\"ticks\":\"\"}}}],\"histogram\":[{\"marker\":{\"pattern\":{\"fillmode\":\"overlay\",\"size\":10,\"solidity\":0.2}},\"type\":\"histogram\"}],\"scattergl\":[{\"type\":\"scattergl\",\"marker\":{\"colorbar\":{\"outlinewidth\":0,\"ticks\":\"\"}}}],\"scatter3d\":[{\"type\":\"scatter3d\",\"line\":{\"colorbar\":{\"outlinewidth\":0,\"ticks\":\"\"}},\"marker\":{\"colorbar\":{\"outlinewidth\":0,\"ticks\":\"\"}}}],\"scattermapbox\":[{\"type\":\"scattermapbox\",\"marker\":{\"colorbar\":{\"outlinewidth\":0,\"ticks\":\"\"}}}],\"scatterternary\":[{\"type\":\"scatterternary\",\"marker\":{\"colorbar\":{\"outlinewidth\":0,\"ticks\":\"\"}}}],\"scattercarpet\":[{\"type\":\"scattercarpet\",\"marker\":{\"colorbar\":{\"outlinewidth\":0,\"ticks\":\"\"}}}],\"carpet\":[{\"aaxis\":{\"endlinecolor\":\"#2a3f5f\",\"gridcolor\":\"white\",\"linecolor\":\"white\",\"minorgridcolor\":\"white\",\"startlinecolor\":\"#2a3f5f\"},\"baxis\":{\"endlinecolor\":\"#2a3f5f\",\"gridcolor\":\"white\",\"linecolor\":\"white\",\"minorgridcolor\":\"white\",\"startlinecolor\":\"#2a3f5f\"},\"type\":\"carpet\"}],\"table\":[{\"cells\":{\"fill\":{\"color\":\"#EBF0F8\"},\"line\":{\"color\":\"white\"}},\"header\":{\"fill\":{\"color\":\"#C8D4E3\"},\"line\":{\"color\":\"white\"}},\"type\":\"table\"}],\"barpolar\":[{\"marker\":{\"line\":{\"color\":\"#E5ECF6\",\"width\":0.5},\"pattern\":{\"fillmode\":\"overlay\",\"size\":10,\"solidity\":0.2}},\"type\":\"barpolar\"}],\"pie\":[{\"automargin\":true,\"type\":\"pie\"}]},\"layout\":{\"autotypenumbers\":\"strict\",\"colorway\":[\"#636efa\",\"#EF553B\",\"#00cc96\",\"#ab63fa\",\"#FFA15A\",\"#19d3f3\",\"#FF6692\",\"#B6E880\",\"#FF97FF\",\"#FECB52\"],\"font\":{\"color\":\"#2a3f5f\"},\"hovermode\":\"closest\",\"hoverlabel\":{\"align\":\"left\"},\"paper_bgcolor\":\"white\",\"plot_bgcolor\":\"#E5ECF6\",\"polar\":{\"bgcolor\":\"#E5ECF6\",\"angularaxis\":{\"gridcolor\":\"white\",\"linecolor\":\"white\",\"ticks\":\"\"},\"radialaxis\":{\"gridcolor\":\"white\",\"linecolor\":\"white\",\"ticks\":\"\"}},\"ternary\":{\"bgcolor\":\"#E5ECF6\",\"aaxis\":{\"gridcolor\":\"white\",\"linecolor\":\"white\",\"ticks\":\"\"},\"baxis\":{\"gridcolor\":\"white\",\"linecolor\":\"white\",\"ticks\":\"\"},\"caxis\":{\"gridcolor\":\"white\",\"linecolor\":\"white\",\"ticks\":\"\"}},\"coloraxis\":{\"colorbar\":{\"outlinewidth\":0,\"ticks\":\"\"}},\"colorscale\":{\"sequential\":[[0.0,\"#0d0887\"],[0.1111111111111111,\"#46039f\"],[0.2222222222222222,\"#7201a8\"],[0.3333333333333333,\"#9c179e\"],[0.4444444444444444,\"#bd3786\"],[0.5555555555555556,\"#d8576b\"],[0.6666666666666666,\"#ed7953\"],[0.7777777777777778,\"#fb9f3a\"],[0.8888888888888888,\"#fdca26\"],[1.0,\"#f0f921\"]],\"sequentialminus\":[[0.0,\"#0d0887\"],[0.1111111111111111,\"#46039f\"],[0.2222222222222222,\"#7201a8\"],[0.3333333333333333,\"#9c179e\"],[0.4444444444444444,\"#bd3786\"],[0.5555555555555556,\"#d8576b\"],[0.6666666666666666,\"#ed7953\"],[0.7777777777777778,\"#fb9f3a\"],[0.8888888888888888,\"#fdca26\"],[1.0,\"#f0f921\"]],\"diverging\":[[0,\"#8e0152\"],[0.1,\"#c51b7d\"],[0.2,\"#de77ae\"],[0.3,\"#f1b6da\"],[0.4,\"#fde0ef\"],[0.5,\"#f7f7f7\"],[0.6,\"#e6f5d0\"],[0.7,\"#b8e186\"],[0.8,\"#7fbc41\"],[0.9,\"#4d9221\"],[1,\"#276419\"]]},\"xaxis\":{\"gridcolor\":\"white\",\"linecolor\":\"white\",\"ticks\":\"\",\"title\":{\"standoff\":15},\"zerolinecolor\":\"white\",\"automargin\":true,\"zerolinewidth\":2},\"yaxis\":{\"gridcolor\":\"white\",\"linecolor\":\"white\",\"ticks\":\"\",\"title\":{\"standoff\":15},\"zerolinecolor\":\"white\",\"automargin\":true,\"zerolinewidth\":2},\"scene\":{\"xaxis\":{\"backgroundcolor\":\"#E5ECF6\",\"gridcolor\":\"white\",\"linecolor\":\"white\",\"showbackground\":true,\"ticks\":\"\",\"zerolinecolor\":\"white\",\"gridwidth\":2},\"yaxis\":{\"backgroundcolor\":\"#E5ECF6\",\"gridcolor\":\"white\",\"linecolor\":\"white\",\"showbackground\":true,\"ticks\":\"\",\"zerolinecolor\":\"white\",\"gridwidth\":2},\"zaxis\":{\"backgroundcolor\":\"#E5ECF6\",\"gridcolor\":\"white\",\"linecolor\":\"white\",\"showbackground\":true,\"ticks\":\"\",\"zerolinecolor\":\"white\",\"gridwidth\":2}},\"shapedefaults\":{\"line\":{\"color\":\"#2a3f5f\"}},\"annotationdefaults\":{\"arrowcolor\":\"#2a3f5f\",\"arrowhead\":0,\"arrowwidth\":1},\"geo\":{\"bgcolor\":\"white\",\"landcolor\":\"#E5ECF6\",\"subunitcolor\":\"white\",\"showland\":true,\"showlakes\":true,\"lakecolor\":\"white\"},\"title\":{\"x\":0.05},\"mapbox\":{\"style\":\"light\"}}},\"xaxis\":{\"anchor\":\"y\",\"domain\":[0.0,1.0],\"title\":{\"text\":\"\\u8a55\\u50f9\"}},\"yaxis\":{\"anchor\":\"x\",\"domain\":[0.0,1.0],\"title\":{\"text\":\"\\u4e0b\\u8f09\\u6b21\\u6578\"}},\"legend\":{\"title\":{\"text\":\"\\u8c61\\u9650\"},\"tracegroupgap\":0,\"itemsizing\":\"constant\"},\"margin\":{\"t\":60},\"title\":{\"text\":\"\\u904a\\u6232\\u4e0b\\u8f09\\u6b21\\u6578\\u8207\\u8a55\\u50f9\\u5206\\u6790\"},\"shapes\":[{\"line\":{\"color\":\"#FF00FF\",\"width\":5},\"type\":\"line\",\"x0\":4.2376419599999995,\"x1\":4.2376419599999995,\"y0\":0,\"y1\":1510707426},{\"line\":{\"color\":\"#FF00FF\",\"width\":5},\"type\":\"line\",\"x0\":0,\"x1\":4.5507693,\"y0\":372780882.9,\"y1\":372780882.9}]},                        {\"responsive\": true}                    ).then(function(){\n",
       "                            \n",
       "var gd = document.getElementById('cf51e7a0-c05d-4f83-b1da-85936c3a1577');\n",
       "var x = new MutationObserver(function (mutations, observer) {{\n",
       "        var display = window.getComputedStyle(gd).display;\n",
       "        if (!display || display === 'none') {{\n",
       "            console.log([gd, 'removed!']);\n",
       "            Plotly.purge(gd);\n",
       "            observer.disconnect();\n",
       "        }}\n",
       "}});\n",
       "\n",
       "// Listen for the removal of the full notebook cells\n",
       "var notebookContainer = gd.closest('#notebook-container');\n",
       "if (notebookContainer) {{\n",
       "    x.observe(notebookContainer, {childList: true});\n",
       "}}\n",
       "\n",
       "// Listen for the clearing of the current output cell\n",
       "var outputEl = gd.closest('.output');\n",
       "if (outputEl) {{\n",
       "    x.observe(outputEl, {childList: true});\n",
       "}}\n",
       "\n",
       "                        })                };                });            </script>        </div>"
      ]
     },
     "metadata": {},
     "output_type": "display_data"
    }
   ],
   "source": [
    "fig.update_layout(\n",
    "        title = '遊戲下載次數與評價分析',\n",
    "        shapes = [\n",
    "            \n",
    "        #設定x軸\n",
    "        dict({'type':'line',\n",
    "             'x0':avg_score,         #X軸座標單位\n",
    "             'y0':0,\n",
    "             \n",
    "             'x1':avg_score,\n",
    "             'y1':final['下載次數'].max(),\n",
    "             'line':{\n",
    "                 'color':'#FF00FF',\n",
    "                 'width':5\n",
    "             }\n",
    "             }),\n",
    "        #設定y軸\n",
    "        dict({'type':'line',\n",
    "             'x0':0,\n",
    "             'y0':avg_real,\n",
    "             \n",
    "             'x1':final['評價'].max(),\n",
    "             'y1':avg_real,\n",
    "             'line':{\n",
    "                 'color':'#FF00FF',\n",
    "                 'width':5\n",
    "             }\n",
    "             })\n",
    "        \n",
    "        \n",
    "        \n",
    "        ]\n",
    "\n",
    "\n",
    ")"
   ]
  },
  {
   "cell_type": "code",
   "execution_count": null,
   "id": "3c36205c",
   "metadata": {},
   "outputs": [],
   "source": []
  },
  {
   "cell_type": "code",
   "execution_count": null,
   "id": "9cfb34c5",
   "metadata": {},
   "outputs": [],
   "source": []
  }
 ],
 "metadata": {
  "kernelspec": {
   "display_name": "Python 3 (ipykernel)",
   "language": "python",
   "name": "python3"
  },
  "language_info": {
   "codemirror_mode": {
    "name": "ipython",
    "version": 3
   },
   "file_extension": ".py",
   "mimetype": "text/x-python",
   "name": "python",
   "nbconvert_exporter": "python",
   "pygments_lexer": "ipython3",
   "version": "3.9.13"
  }
 },
 "nbformat": 4,
 "nbformat_minor": 5
}
