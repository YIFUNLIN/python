{
 "cells": [
  {
   "cell_type": "markdown",
   "metadata": {},
   "source": []
  },
  {
   "cell_type": "code",
   "execution_count": 25,
   "metadata": {},
   "outputs": [],
   "source": [
    "import pandas as pd\n",
    "from apyori import apriori         #先驗演算法                    \n",
    "\n",
    "pd.set_option('display.max_columns',None)      "
   ]
  },
  {
   "cell_type": "code",
   "execution_count": 26,
   "metadata": {},
   "outputs": [
    {
     "data": {
      "text/html": [
       "<div>\n",
       "<style scoped>\n",
       "    .dataframe tbody tr th:only-of-type {\n",
       "        vertical-align: middle;\n",
       "    }\n",
       "\n",
       "    .dataframe tbody tr th {\n",
       "        vertical-align: top;\n",
       "    }\n",
       "\n",
       "    .dataframe thead th {\n",
       "        text-align: right;\n",
       "    }\n",
       "</style>\n",
       "<table border=\"1\" class=\"dataframe\">\n",
       "  <thead>\n",
       "    <tr style=\"text-align: right;\">\n",
       "      <th></th>\n",
       "      <th>0</th>\n",
       "      <th>1</th>\n",
       "      <th>2</th>\n",
       "      <th>3</th>\n",
       "      <th>4</th>\n",
       "      <th>5</th>\n",
       "      <th>6</th>\n",
       "      <th>7</th>\n",
       "      <th>8</th>\n",
       "      <th>9</th>\n",
       "      <th>10</th>\n",
       "      <th>11</th>\n",
       "      <th>12</th>\n",
       "      <th>13</th>\n",
       "      <th>14</th>\n",
       "      <th>15</th>\n",
       "      <th>16</th>\n",
       "      <th>17</th>\n",
       "      <th>18</th>\n",
       "      <th>19</th>\n",
       "    </tr>\n",
       "  </thead>\n",
       "  <tbody>\n",
       "    <tr>\n",
       "      <th>0</th>\n",
       "      <td>shrimp</td>\n",
       "      <td>almonds</td>\n",
       "      <td>avocado</td>\n",
       "      <td>vegetables mix</td>\n",
       "      <td>green grapes</td>\n",
       "      <td>whole weat flour</td>\n",
       "      <td>yams</td>\n",
       "      <td>cottage cheese</td>\n",
       "      <td>energy drink</td>\n",
       "      <td>tomato juice</td>\n",
       "      <td>low fat yogurt</td>\n",
       "      <td>green tea</td>\n",
       "      <td>honey</td>\n",
       "      <td>salad</td>\n",
       "      <td>mineral water</td>\n",
       "      <td>salmon</td>\n",
       "      <td>antioxydant juice</td>\n",
       "      <td>frozen smoothie</td>\n",
       "      <td>spinach</td>\n",
       "      <td>olive oil</td>\n",
       "    </tr>\n",
       "    <tr>\n",
       "      <th>1</th>\n",
       "      <td>burgers</td>\n",
       "      <td>meatballs</td>\n",
       "      <td>eggs</td>\n",
       "      <td>NaN</td>\n",
       "      <td>NaN</td>\n",
       "      <td>NaN</td>\n",
       "      <td>NaN</td>\n",
       "      <td>NaN</td>\n",
       "      <td>NaN</td>\n",
       "      <td>NaN</td>\n",
       "      <td>NaN</td>\n",
       "      <td>NaN</td>\n",
       "      <td>NaN</td>\n",
       "      <td>NaN</td>\n",
       "      <td>NaN</td>\n",
       "      <td>NaN</td>\n",
       "      <td>NaN</td>\n",
       "      <td>NaN</td>\n",
       "      <td>NaN</td>\n",
       "      <td>NaN</td>\n",
       "    </tr>\n",
       "    <tr>\n",
       "      <th>2</th>\n",
       "      <td>chutney</td>\n",
       "      <td>NaN</td>\n",
       "      <td>NaN</td>\n",
       "      <td>NaN</td>\n",
       "      <td>NaN</td>\n",
       "      <td>NaN</td>\n",
       "      <td>NaN</td>\n",
       "      <td>NaN</td>\n",
       "      <td>NaN</td>\n",
       "      <td>NaN</td>\n",
       "      <td>NaN</td>\n",
       "      <td>NaN</td>\n",
       "      <td>NaN</td>\n",
       "      <td>NaN</td>\n",
       "      <td>NaN</td>\n",
       "      <td>NaN</td>\n",
       "      <td>NaN</td>\n",
       "      <td>NaN</td>\n",
       "      <td>NaN</td>\n",
       "      <td>NaN</td>\n",
       "    </tr>\n",
       "    <tr>\n",
       "      <th>3</th>\n",
       "      <td>turkey</td>\n",
       "      <td>avocado</td>\n",
       "      <td>NaN</td>\n",
       "      <td>NaN</td>\n",
       "      <td>NaN</td>\n",
       "      <td>NaN</td>\n",
       "      <td>NaN</td>\n",
       "      <td>NaN</td>\n",
       "      <td>NaN</td>\n",
       "      <td>NaN</td>\n",
       "      <td>NaN</td>\n",
       "      <td>NaN</td>\n",
       "      <td>NaN</td>\n",
       "      <td>NaN</td>\n",
       "      <td>NaN</td>\n",
       "      <td>NaN</td>\n",
       "      <td>NaN</td>\n",
       "      <td>NaN</td>\n",
       "      <td>NaN</td>\n",
       "      <td>NaN</td>\n",
       "    </tr>\n",
       "    <tr>\n",
       "      <th>4</th>\n",
       "      <td>mineral water</td>\n",
       "      <td>milk</td>\n",
       "      <td>energy bar</td>\n",
       "      <td>whole wheat rice</td>\n",
       "      <td>green tea</td>\n",
       "      <td>NaN</td>\n",
       "      <td>NaN</td>\n",
       "      <td>NaN</td>\n",
       "      <td>NaN</td>\n",
       "      <td>NaN</td>\n",
       "      <td>NaN</td>\n",
       "      <td>NaN</td>\n",
       "      <td>NaN</td>\n",
       "      <td>NaN</td>\n",
       "      <td>NaN</td>\n",
       "      <td>NaN</td>\n",
       "      <td>NaN</td>\n",
       "      <td>NaN</td>\n",
       "      <td>NaN</td>\n",
       "      <td>NaN</td>\n",
       "    </tr>\n",
       "  </tbody>\n",
       "</table>\n",
       "</div>"
      ],
      "text/plain": [
       "              0          1           2                 3             4   \\\n",
       "0         shrimp    almonds     avocado    vegetables mix  green grapes   \n",
       "1        burgers  meatballs        eggs               NaN           NaN   \n",
       "2        chutney        NaN         NaN               NaN           NaN   \n",
       "3         turkey    avocado         NaN               NaN           NaN   \n",
       "4  mineral water       milk  energy bar  whole wheat rice     green tea   \n",
       "\n",
       "                 5     6               7             8             9   \\\n",
       "0  whole weat flour  yams  cottage cheese  energy drink  tomato juice   \n",
       "1               NaN   NaN             NaN           NaN           NaN   \n",
       "2               NaN   NaN             NaN           NaN           NaN   \n",
       "3               NaN   NaN             NaN           NaN           NaN   \n",
       "4               NaN   NaN             NaN           NaN           NaN   \n",
       "\n",
       "               10         11     12     13             14      15  \\\n",
       "0  low fat yogurt  green tea  honey  salad  mineral water  salmon   \n",
       "1             NaN        NaN    NaN    NaN            NaN     NaN   \n",
       "2             NaN        NaN    NaN    NaN            NaN     NaN   \n",
       "3             NaN        NaN    NaN    NaN            NaN     NaN   \n",
       "4             NaN        NaN    NaN    NaN            NaN     NaN   \n",
       "\n",
       "                  16               17       18         19  \n",
       "0  antioxydant juice  frozen smoothie  spinach  olive oil  \n",
       "1                NaN              NaN      NaN        NaN  \n",
       "2                NaN              NaN      NaN        NaN  \n",
       "3                NaN              NaN      NaN        NaN  \n",
       "4                NaN              NaN      NaN        NaN  "
      ]
     },
     "execution_count": 26,
     "metadata": {},
     "output_type": "execute_result"
    }
   ],
   "source": [
    "df = pd.read_csv('Market_Basket_Optimisation.csv',header=None)\n",
    "\n",
    "df.head()"
   ]
  },
  {
   "cell_type": "code",
   "execution_count": 27,
   "metadata": {},
   "outputs": [
    {
     "data": {
      "text/html": [
       "<div>\n",
       "<style scoped>\n",
       "    .dataframe tbody tr th:only-of-type {\n",
       "        vertical-align: middle;\n",
       "    }\n",
       "\n",
       "    .dataframe tbody tr th {\n",
       "        vertical-align: top;\n",
       "    }\n",
       "\n",
       "    .dataframe thead th {\n",
       "        text-align: right;\n",
       "    }\n",
       "</style>\n",
       "<table border=\"1\" class=\"dataframe\">\n",
       "  <thead>\n",
       "    <tr style=\"text-align: right;\">\n",
       "      <th></th>\n",
       "      <th>0</th>\n",
       "      <th>1</th>\n",
       "      <th>2</th>\n",
       "      <th>3</th>\n",
       "      <th>4</th>\n",
       "      <th>5</th>\n",
       "      <th>6</th>\n",
       "      <th>7</th>\n",
       "      <th>8</th>\n",
       "      <th>9</th>\n",
       "      <th>10</th>\n",
       "      <th>11</th>\n",
       "      <th>12</th>\n",
       "      <th>13</th>\n",
       "      <th>14</th>\n",
       "      <th>15</th>\n",
       "      <th>16</th>\n",
       "      <th>17</th>\n",
       "      <th>18</th>\n",
       "      <th>19</th>\n",
       "    </tr>\n",
       "  </thead>\n",
       "  <tbody>\n",
       "    <tr>\n",
       "      <th>0</th>\n",
       "      <td>shrimp</td>\n",
       "      <td>almonds</td>\n",
       "      <td>avocado</td>\n",
       "      <td>vegetables mix</td>\n",
       "      <td>green grapes</td>\n",
       "      <td>whole weat flour</td>\n",
       "      <td>yams</td>\n",
       "      <td>cottage cheese</td>\n",
       "      <td>energy drink</td>\n",
       "      <td>tomato juice</td>\n",
       "      <td>low fat yogurt</td>\n",
       "      <td>green tea</td>\n",
       "      <td>honey</td>\n",
       "      <td>salad</td>\n",
       "      <td>mineral water</td>\n",
       "      <td>salmon</td>\n",
       "      <td>antioxydant juice</td>\n",
       "      <td>frozen smoothie</td>\n",
       "      <td>spinach</td>\n",
       "      <td>olive oil</td>\n",
       "    </tr>\n",
       "    <tr>\n",
       "      <th>1</th>\n",
       "      <td>burgers</td>\n",
       "      <td>meatballs</td>\n",
       "      <td>eggs</td>\n",
       "      <td>0</td>\n",
       "      <td>0</td>\n",
       "      <td>0</td>\n",
       "      <td>0</td>\n",
       "      <td>0</td>\n",
       "      <td>0</td>\n",
       "      <td>0</td>\n",
       "      <td>0</td>\n",
       "      <td>0</td>\n",
       "      <td>0</td>\n",
       "      <td>0</td>\n",
       "      <td>0</td>\n",
       "      <td>0</td>\n",
       "      <td>0</td>\n",
       "      <td>0</td>\n",
       "      <td>0</td>\n",
       "      <td>0</td>\n",
       "    </tr>\n",
       "    <tr>\n",
       "      <th>2</th>\n",
       "      <td>chutney</td>\n",
       "      <td>0</td>\n",
       "      <td>0</td>\n",
       "      <td>0</td>\n",
       "      <td>0</td>\n",
       "      <td>0</td>\n",
       "      <td>0</td>\n",
       "      <td>0</td>\n",
       "      <td>0</td>\n",
       "      <td>0</td>\n",
       "      <td>0</td>\n",
       "      <td>0</td>\n",
       "      <td>0</td>\n",
       "      <td>0</td>\n",
       "      <td>0</td>\n",
       "      <td>0</td>\n",
       "      <td>0</td>\n",
       "      <td>0</td>\n",
       "      <td>0</td>\n",
       "      <td>0</td>\n",
       "    </tr>\n",
       "    <tr>\n",
       "      <th>3</th>\n",
       "      <td>turkey</td>\n",
       "      <td>avocado</td>\n",
       "      <td>0</td>\n",
       "      <td>0</td>\n",
       "      <td>0</td>\n",
       "      <td>0</td>\n",
       "      <td>0</td>\n",
       "      <td>0</td>\n",
       "      <td>0</td>\n",
       "      <td>0</td>\n",
       "      <td>0</td>\n",
       "      <td>0</td>\n",
       "      <td>0</td>\n",
       "      <td>0</td>\n",
       "      <td>0</td>\n",
       "      <td>0</td>\n",
       "      <td>0</td>\n",
       "      <td>0</td>\n",
       "      <td>0</td>\n",
       "      <td>0</td>\n",
       "    </tr>\n",
       "    <tr>\n",
       "      <th>4</th>\n",
       "      <td>mineral water</td>\n",
       "      <td>milk</td>\n",
       "      <td>energy bar</td>\n",
       "      <td>whole wheat rice</td>\n",
       "      <td>green tea</td>\n",
       "      <td>0</td>\n",
       "      <td>0</td>\n",
       "      <td>0</td>\n",
       "      <td>0</td>\n",
       "      <td>0</td>\n",
       "      <td>0</td>\n",
       "      <td>0</td>\n",
       "      <td>0</td>\n",
       "      <td>0</td>\n",
       "      <td>0</td>\n",
       "      <td>0</td>\n",
       "      <td>0</td>\n",
       "      <td>0</td>\n",
       "      <td>0</td>\n",
       "      <td>0</td>\n",
       "    </tr>\n",
       "  </tbody>\n",
       "</table>\n",
       "</div>"
      ],
      "text/plain": [
       "              0          1           2                 3             4   \\\n",
       "0         shrimp    almonds     avocado    vegetables mix  green grapes   \n",
       "1        burgers  meatballs        eggs                 0             0   \n",
       "2        chutney          0           0                 0             0   \n",
       "3         turkey    avocado           0                 0             0   \n",
       "4  mineral water       milk  energy bar  whole wheat rice     green tea   \n",
       "\n",
       "                 5     6               7             8             9   \\\n",
       "0  whole weat flour  yams  cottage cheese  energy drink  tomato juice   \n",
       "1                 0     0               0             0             0   \n",
       "2                 0     0               0             0             0   \n",
       "3                 0     0               0             0             0   \n",
       "4                 0     0               0             0             0   \n",
       "\n",
       "               10         11     12     13             14      15  \\\n",
       "0  low fat yogurt  green tea  honey  salad  mineral water  salmon   \n",
       "1               0          0      0      0              0       0   \n",
       "2               0          0      0      0              0       0   \n",
       "3               0          0      0      0              0       0   \n",
       "4               0          0      0      0              0       0   \n",
       "\n",
       "                  16               17       18         19  \n",
       "0  antioxydant juice  frozen smoothie  spinach  olive oil  \n",
       "1                  0                0        0          0  \n",
       "2                  0                0        0          0  \n",
       "3                  0                0        0          0  \n",
       "4                  0                0        0          0  "
      ]
     },
     "execution_count": 27,
     "metadata": {},
     "output_type": "execute_result"
    }
   ],
   "source": [
    "df.fillna(0,inplace=True)  #將原始資料中發生NaN的欄位找出、並且補上0 (遺漏值處理)\n",
    "df.head()"
   ]
  },
  {
   "cell_type": "code",
   "execution_count": 30,
   "metadata": {},
   "outputs": [
    {
     "data": {
      "text/plain": [
       "7501"
      ]
     },
     "execution_count": 30,
     "metadata": {},
     "output_type": "execute_result"
    }
   ],
   "source": [
    "len(df)"
   ]
  },
  {
   "cell_type": "code",
   "execution_count": 34,
   "metadata": {},
   "outputs": [],
   "source": [
    "#使用apriori套件 必須先將資料處理成List型態\n",
    "\n",
    "transactions = []\n",
    "\n",
    "for i in range(0,len(df)):          #透過for迴圈拜訪df中的每一筆交易紀錄\n",
    "    transactions.append([str(df.values[i,j]) for j in range(0,20) if str(df.values[i,j]) != '0'])\n",
    "    #透過append()針對transactions將拜訪到的資料添加進去，i 為 row、j為column\n",
    "    #由於顧客交易紀錄的是商品名稱，因此再添加資料時 適合將交易紀錄透過str()轉換成文字型態的資料\n",
    "    #若[i,j]其中某筆紀錄發現0，則不能加入transactions list"
   ]
  },
  {
   "cell_type": "code",
   "execution_count": 44,
   "metadata": {},
   "outputs": [],
   "source": [
    "#呼叫apriori()，括號內接收五項參數:\n",
    "rules = apriori(transactions,min_support = 0.02,min_confidence=0.2,min_left=1,min_length=2)\n",
    "#min_length 為商品項目最小交集數量，則每條法則最少需要有兩個商品"
   ]
  },
  {
   "cell_type": "code",
   "execution_count": 45,
   "metadata": {},
   "outputs": [
    {
     "data": {
      "text/plain": [
       "generator"
      ]
     },
     "execution_count": 45,
     "metadata": {},
     "output_type": "execute_result"
    }
   ],
   "source": [
    "type(rules)"
   ]
  },
  {
   "cell_type": "code",
   "execution_count": 46,
   "metadata": {},
   "outputs": [
    {
     "data": {
      "text/plain": [
       "[RelationRecord(items=frozenset({'mineral water'}), support=0.23836821757099053, ordered_statistics=[OrderedStatistic(items_base=frozenset(), items_add=frozenset({'mineral water'}), confidence=0.23836821757099053, lift=1.0)]),\n",
       " RelationRecord(items=frozenset({'eggs', 'burgers'}), support=0.02879616051193174, ordered_statistics=[OrderedStatistic(items_base=frozenset({'burgers'}), items_add=frozenset({'eggs'}), confidence=0.33027522935779813, lift=1.8378297443715457)]),\n",
       " RelationRecord(items=frozenset({'burgers', 'french fries'}), support=0.021997067057725635, ordered_statistics=[OrderedStatistic(items_base=frozenset({'burgers'}), items_add=frozenset({'french fries'}), confidence=0.25229357798165136, lift=1.4761732671141707)]),\n",
       " RelationRecord(items=frozenset({'burgers', 'mineral water'}), support=0.024396747100386616, ordered_statistics=[OrderedStatistic(items_base=frozenset({'burgers'}), items_add=frozenset({'mineral water'}), confidence=0.2798165137614679, lift=1.1738834841861134)]),\n",
       " RelationRecord(items=frozenset({'spaghetti', 'burgers'}), support=0.021463804826023197, ordered_statistics=[OrderedStatistic(items_base=frozenset({'burgers'}), items_add=frozenset({'spaghetti'}), confidence=0.24617737003058102, lift=1.4139176513012162)]),\n",
       " RelationRecord(items=frozenset({'cake', 'mineral water'}), support=0.027463004932675644, ordered_statistics=[OrderedStatistic(items_base=frozenset({'cake'}), items_add=frozenset({'mineral water'}), confidence=0.33881578947368424, lift=1.4213966649005065)]),\n",
       " RelationRecord(items=frozenset({'mineral water', 'chicken'}), support=0.022796960405279298, ordered_statistics=[OrderedStatistic(items_base=frozenset({'chicken'}), items_add=frozenset({'mineral water'}), confidence=0.38000000000000006, lift=1.5941722595078303)]),\n",
       " RelationRecord(items=frozenset({'eggs', 'chocolate'}), support=0.03319557392347687, ordered_statistics=[OrderedStatistic(items_base=frozenset({'chocolate'}), items_add=frozenset({'eggs'}), confidence=0.20260374288039054, lift=1.1273966434316094)]),\n",
       " RelationRecord(items=frozenset({'french fries', 'chocolate'}), support=0.03439541394480736, ordered_statistics=[OrderedStatistic(items_base=frozenset({'chocolate'}), items_add=frozenset({'french fries'}), confidence=0.209926769731489, lift=1.2282844771886887), OrderedStatistic(items_base=frozenset({'french fries'}), items_add=frozenset({'chocolate'}), confidence=0.20124804992199688, lift=1.2282844771886887)]),\n",
       " RelationRecord(items=frozenset({'chocolate', 'frozen vegetables'}), support=0.022930275963204905, ordered_statistics=[OrderedStatistic(items_base=frozenset({'frozen vegetables'}), items_add=frozenset({'chocolate'}), confidence=0.24055944055944053, lift=1.4682151046675047)]),\n",
       " RelationRecord(items=frozenset({'ground beef', 'chocolate'}), support=0.023063591521130515, ordered_statistics=[OrderedStatistic(items_base=frozenset({'ground beef'}), items_add=frozenset({'chocolate'}), confidence=0.23473541383989144, lift=1.4326691124597442)]),\n",
       " RelationRecord(items=frozenset({'chocolate', 'milk'}), support=0.03212904946007199, ordered_statistics=[OrderedStatistic(items_base=frozenset({'milk'}), items_add=frozenset({'chocolate'}), confidence=0.2479423868312757, lift=1.5132757067708698)]),\n",
       " RelationRecord(items=frozenset({'mineral water', 'chocolate'}), support=0.05265964538061592, ordered_statistics=[OrderedStatistic(items_base=frozenset({'chocolate'}), items_add=frozenset({'mineral water'}), confidence=0.3213995117982099, lift=1.3483320682317521), OrderedStatistic(items_base=frozenset({'mineral water'}), items_add=frozenset({'chocolate'}), confidence=0.220917225950783, lift=1.348332068231752)]),\n",
       " RelationRecord(items=frozenset({'spaghetti', 'chocolate'}), support=0.03919477403012932, ordered_statistics=[OrderedStatistic(items_base=frozenset({'chocolate'}), items_add=frozenset({'spaghetti'}), confidence=0.23921887713588283, lift=1.3739516059695691), OrderedStatistic(items_base=frozenset({'spaghetti'}), items_add=frozenset({'chocolate'}), confidence=0.22511485451761104, lift=1.3739516059695691)]),\n",
       " RelationRecord(items=frozenset({'mineral water', 'cooking oil'}), support=0.020130649246767097, ordered_statistics=[OrderedStatistic(items_base=frozenset({'cooking oil'}), items_add=frozenset({'mineral water'}), confidence=0.3942558746736292, lift=1.6539783646123563)]),\n",
       " RelationRecord(items=frozenset({'eggs', 'french fries'}), support=0.036395147313691506, ordered_statistics=[OrderedStatistic(items_base=frozenset({'eggs'}), items_add=frozenset({'french fries'}), confidence=0.20252225519287834, lift=1.1849605586597352), OrderedStatistic(items_base=frozenset({'french fries'}), items_add=frozenset({'eggs'}), confidence=0.21294851794071765, lift=1.1849605586597352)]),\n",
       " RelationRecord(items=frozenset({'eggs', 'frozen vegetables'}), support=0.021730435941874418, ordered_statistics=[OrderedStatistic(items_base=frozenset({'frozen vegetables'}), items_add=frozenset({'eggs'}), confidence=0.22797202797202798, lift=1.2685594820609658)]),\n",
       " RelationRecord(items=frozenset({'eggs', 'milk'}), support=0.03079589388081589, ordered_statistics=[OrderedStatistic(items_base=frozenset({'milk'}), items_add=frozenset({'eggs'}), confidence=0.23765432098765432, lift=1.322436989412756)]),\n",
       " RelationRecord(items=frozenset({'eggs', 'mineral water'}), support=0.05092654312758299, ordered_statistics=[OrderedStatistic(items_base=frozenset({'eggs'}), items_add=frozenset({'mineral water'}), confidence=0.28338278931750743, lift=1.188844688294532), OrderedStatistic(items_base=frozenset({'mineral water'}), items_add=frozenset({'eggs'}), confidence=0.21364653243847875, lift=1.188844688294532)]),\n",
       " RelationRecord(items=frozenset({'eggs', 'pancakes'}), support=0.021730435941874418, ordered_statistics=[OrderedStatistic(items_base=frozenset({'pancakes'}), items_add=frozenset({'eggs'}), confidence=0.2286115007012623, lift=1.2721178536796502)]),\n",
       " RelationRecord(items=frozenset({'spaghetti', 'eggs'}), support=0.036528462871617116, ordered_statistics=[OrderedStatistic(items_base=frozenset({'eggs'}), items_add=frozenset({'spaghetti'}), confidence=0.2032640949554896, lift=1.1674456173515526), OrderedStatistic(items_base=frozenset({'spaghetti'}), items_add=frozenset({'eggs'}), confidence=0.20980091883614088, lift=1.1674456173515524)]),\n",
       " RelationRecord(items=frozenset({'french fries', 'green tea'}), support=0.028529529396080524, ordered_statistics=[OrderedStatistic(items_base=frozenset({'green tea'}), items_add=frozenset({'french fries'}), confidence=0.21594349142280528, lift=1.263488400282732)]),\n",
       " RelationRecord(items=frozenset({'french fries', 'pancakes'}), support=0.020130649246767097, ordered_statistics=[OrderedStatistic(items_base=frozenset({'pancakes'}), items_add=frozenset({'french fries'}), confidence=0.211781206171108, lift=1.2391348108342286)]),\n",
       " RelationRecord(items=frozenset({'mineral water', 'frozen smoothie'}), support=0.020263964804692707, ordered_statistics=[OrderedStatistic(items_base=frozenset({'frozen smoothie'}), items_add=frozenset({'mineral water'}), confidence=0.32, lift=1.342460850111857)]),\n",
       " RelationRecord(items=frozenset({'milk', 'frozen vegetables'}), support=0.023596853752832957, ordered_statistics=[OrderedStatistic(items_base=frozenset({'frozen vegetables'}), items_add=frozenset({'milk'}), confidence=0.24755244755244757, lift=1.9103815937149273)]),\n",
       " RelationRecord(items=frozenset({'mineral water', 'frozen vegetables'}), support=0.03572856952406346, ordered_statistics=[OrderedStatistic(items_base=frozenset({'frozen vegetables'}), items_add=frozenset({'mineral water'}), confidence=0.37482517482517486, lift=1.57246288387228)]),\n",
       " RelationRecord(items=frozenset({'spaghetti', 'frozen vegetables'}), support=0.027862951606452472, ordered_statistics=[OrderedStatistic(items_base=frozenset({'frozen vegetables'}), items_add=frozenset({'spaghetti'}), confidence=0.29230769230769227, lift=1.678866768759571)]),\n",
       " RelationRecord(items=frozenset({'mineral water', 'green tea'}), support=0.03106252499666711, ordered_statistics=[OrderedStatistic(items_base=frozenset({'green tea'}), items_add=frozenset({'mineral water'}), confidence=0.23511604439959638, lift=0.9863565151238102)]),\n",
       " RelationRecord(items=frozenset({'spaghetti', 'green tea'}), support=0.026529796027196375, ordered_statistics=[OrderedStatistic(items_base=frozenset({'green tea'}), items_add=frozenset({'spaghetti'}), confidence=0.2008072653884965, lift=1.153334837426579)]),\n",
       " RelationRecord(items=frozenset({'ground beef', 'milk'}), support=0.021997067057725635, ordered_statistics=[OrderedStatistic(items_base=frozenset({'ground beef'}), items_add=frozenset({'milk'}), confidence=0.22388059701492538, lift=1.7277040722314356)]),\n",
       " RelationRecord(items=frozenset({'ground beef', 'mineral water'}), support=0.040927876283162246, ordered_statistics=[OrderedStatistic(items_base=frozenset({'ground beef'}), items_add=frozenset({'mineral water'}), confidence=0.41655359565807326, lift=1.7475215442008991)]),\n",
       " RelationRecord(items=frozenset({'spaghetti', 'ground beef'}), support=0.03919477403012932, ordered_statistics=[OrderedStatistic(items_base=frozenset({'ground beef'}), items_add=frozenset({'spaghetti'}), confidence=0.3989145183175034, lift=2.291162176033379), OrderedStatistic(items_base=frozenset({'spaghetti'}), items_add=frozenset({'ground beef'}), confidence=0.22511485451761104, lift=2.2911621760333793)]),\n",
       " RelationRecord(items=frozenset({'low fat yogurt', 'mineral water'}), support=0.023996800426609784, ordered_statistics=[OrderedStatistic(items_base=frozenset({'low fat yogurt'}), items_add=frozenset({'mineral water'}), confidence=0.313588850174216, lift=1.315564857470243)]),\n",
       " RelationRecord(items=frozenset({'mineral water', 'milk'}), support=0.04799360085321957, ordered_statistics=[OrderedStatistic(items_base=frozenset({'milk'}), items_add=frozenset({'mineral water'}), confidence=0.3703703703703704, lift=1.5537741320739085), OrderedStatistic(items_base=frozenset({'mineral water'}), items_add=frozenset({'milk'}), confidence=0.20134228187919462, lift=1.5537741320739085)]),\n",
       " RelationRecord(items=frozenset({'spaghetti', 'milk'}), support=0.03546193840821224, ordered_statistics=[OrderedStatistic(items_base=frozenset({'milk'}), items_add=frozenset({'spaghetti'}), confidence=0.27366255144032925, lift=1.5717785592296398), OrderedStatistic(items_base=frozenset({'spaghetti'}), items_add=frozenset({'milk'}), confidence=0.20367534456355285, lift=1.57177855922964)]),\n",
       " RelationRecord(items=frozenset({'olive oil', 'mineral water'}), support=0.027596320490601255, ordered_statistics=[OrderedStatistic(items_base=frozenset({'olive oil'}), items_add=frozenset({'mineral water'}), confidence=0.4190283400809717, lift=1.7579035676439423)]),\n",
       " RelationRecord(items=frozenset({'mineral water', 'pancakes'}), support=0.03372883615517931, ordered_statistics=[OrderedStatistic(items_base=frozenset({'pancakes'}), items_add=frozenset({'mineral water'}), confidence=0.3548387096774194, lift=1.4886158620191963)]),\n",
       " RelationRecord(items=frozenset({'mineral water', 'shrimp'}), support=0.023596853752832957, ordered_statistics=[OrderedStatistic(items_base=frozenset({'shrimp'}), items_add=frozenset({'mineral water'}), confidence=0.3302238805970149, lift=1.385351973354703)]),\n",
       " RelationRecord(items=frozenset({'soup', 'mineral water'}), support=0.023063591521130515, ordered_statistics=[OrderedStatistic(items_base=frozenset({'soup'}), items_add=frozenset({'mineral water'}), confidence=0.45646437994722955, lift=1.9149548735929356)]),\n",
       " RelationRecord(items=frozenset({'spaghetti', 'mineral water'}), support=0.05972536995067324, ordered_statistics=[OrderedStatistic(items_base=frozenset({'mineral water'}), items_add=frozenset({'spaghetti'}), confidence=0.2505592841163311, lift=1.4390851379453289), OrderedStatistic(items_base=frozenset({'spaghetti'}), items_add=frozenset({'mineral water'}), confidence=0.3430321592649311, lift=1.4390851379453289)]),\n",
       " RelationRecord(items=frozenset({'tomatoes', 'mineral water'}), support=0.024396747100386616, ordered_statistics=[OrderedStatistic(items_base=frozenset({'tomatoes'}), items_add=frozenset({'mineral water'}), confidence=0.3567251461988304, lift=1.4965298219448695)]),\n",
       " RelationRecord(items=frozenset({'mineral water', 'whole wheat rice'}), support=0.020130649246767097, ordered_statistics=[OrderedStatistic(items_base=frozenset({'whole wheat rice'}), items_add=frozenset({'mineral water'}), confidence=0.3439635535307517, lift=1.4429925140012128)]),\n",
       " RelationRecord(items=frozenset({'spaghetti', 'olive oil'}), support=0.022930275963204905, ordered_statistics=[OrderedStatistic(items_base=frozenset({'olive oil'}), items_add=frozenset({'spaghetti'}), confidence=0.3481781376518219, lift=1.999758201015556)]),\n",
       " RelationRecord(items=frozenset({'spaghetti', 'pancakes'}), support=0.025196640447940274, ordered_statistics=[OrderedStatistic(items_base=frozenset({'pancakes'}), items_add=frozenset({'spaghetti'}), confidence=0.2650771388499299, lift=1.522468314328732)]),\n",
       " RelationRecord(items=frozenset({'spaghetti', 'shrimp'}), support=0.021197173710171976, ordered_statistics=[OrderedStatistic(items_base=frozenset({'shrimp'}), items_add=frozenset({'spaghetti'}), confidence=0.2966417910447761, lift=1.7037596283513519)]),\n",
       " RelationRecord(items=frozenset({'spaghetti', 'tomatoes'}), support=0.020930542594320756, ordered_statistics=[OrderedStatistic(items_base=frozenset({'tomatoes'}), items_add=frozenset({'spaghetti'}), confidence=0.3060428849902534, lift=1.7577547322449394)])]"
      ]
     },
     "execution_count": 46,
     "metadata": {},
     "output_type": "execute_result"
    }
   ],
   "source": [
    "Association_Results = list(rules)  #將上述探勘的法則rules 轉換成為list型態資料\n",
    "Association_Results    #顯示探勘到的法則內容"
   ]
  },
  {
   "attachments": {},
   "cell_type": "markdown",
   "metadata": {},
   "source": [
    "items_base 為箭頭左邊、\n",
    "items_add  為箭頭右邊\n",
    "\n",
    "買了左邊的東西，也會買右邊的\n"
   ]
  },
  {
   "cell_type": "code",
   "execution_count": 47,
   "metadata": {},
   "outputs": [
    {
     "data": {
      "text/plain": [
       "46"
      ]
     },
     "execution_count": 47,
     "metadata": {},
     "output_type": "execute_result"
    }
   ],
   "source": [
    "len(Association_Results)   #共有46種不同的法則"
   ]
  },
  {
   "cell_type": "code",
   "execution_count": 48,
   "metadata": {},
   "outputs": [
    {
     "data": {
      "text/plain": [
       "RelationRecord(items=frozenset({'mineral water'}), support=0.23836821757099053, ordered_statistics=[OrderedStatistic(items_base=frozenset(), items_add=frozenset({'mineral water'}), confidence=0.23836821757099053, lift=1.0)])"
      ]
     },
     "execution_count": 48,
     "metadata": {},
     "output_type": "execute_result"
    }
   ],
   "source": [
    "Association_Results[0]"
   ]
  },
  {
   "cell_type": "code",
   "execution_count": 50,
   "metadata": {},
   "outputs": [
    {
     "name": "stdout",
     "output_type": "stream",
     "text": [
      "法則: []->['mineral water']\n",
      "支持度: 0.23836821757099053\n",
      "信賴度: 0.23836821757099053\n",
      "提升度: 1.0\n",
      "======================================================\n",
      "法則: ['burgers']->['eggs']\n",
      "支持度: 0.02879616051193174\n",
      "信賴度: 0.33027522935779813\n",
      "提升度: 1.8378297443715457\n",
      "======================================================\n",
      "法則: ['burgers']->['french fries']\n",
      "支持度: 0.021997067057725635\n",
      "信賴度: 0.25229357798165136\n",
      "提升度: 1.4761732671141707\n",
      "======================================================\n",
      "法則: ['burgers']->['mineral water']\n",
      "支持度: 0.024396747100386616\n",
      "信賴度: 0.2798165137614679\n",
      "提升度: 1.1738834841861134\n",
      "======================================================\n",
      "法則: ['burgers']->['spaghetti']\n",
      "支持度: 0.021463804826023197\n",
      "信賴度: 0.24617737003058102\n",
      "提升度: 1.4139176513012162\n",
      "======================================================\n",
      "法則: ['cake']->['mineral water']\n",
      "支持度: 0.027463004932675644\n",
      "信賴度: 0.33881578947368424\n",
      "提升度: 1.4213966649005065\n",
      "======================================================\n",
      "法則: ['chicken']->['mineral water']\n",
      "支持度: 0.022796960405279298\n",
      "信賴度: 0.38000000000000006\n",
      "提升度: 1.5941722595078303\n",
      "======================================================\n",
      "法則: ['chocolate']->['eggs']\n",
      "支持度: 0.03319557392347687\n",
      "信賴度: 0.20260374288039054\n",
      "提升度: 1.1273966434316094\n",
      "======================================================\n",
      "法則: ['chocolate']->['french fries']\n",
      "支持度: 0.03439541394480736\n",
      "信賴度: 0.209926769731489\n",
      "提升度: 1.2282844771886887\n",
      "======================================================\n",
      "法則: ['frozen vegetables']->['chocolate']\n",
      "支持度: 0.022930275963204905\n",
      "信賴度: 0.24055944055944053\n",
      "提升度: 1.4682151046675047\n",
      "======================================================\n",
      "法則: ['ground beef']->['chocolate']\n",
      "支持度: 0.023063591521130515\n",
      "信賴度: 0.23473541383989144\n",
      "提升度: 1.4326691124597442\n",
      "======================================================\n",
      "法則: ['milk']->['chocolate']\n",
      "支持度: 0.03212904946007199\n",
      "信賴度: 0.2479423868312757\n",
      "提升度: 1.5132757067708698\n",
      "======================================================\n",
      "法則: ['chocolate']->['mineral water']\n",
      "支持度: 0.05265964538061592\n",
      "信賴度: 0.3213995117982099\n",
      "提升度: 1.3483320682317521\n",
      "======================================================\n",
      "法則: ['chocolate']->['spaghetti']\n",
      "支持度: 0.03919477403012932\n",
      "信賴度: 0.23921887713588283\n",
      "提升度: 1.3739516059695691\n",
      "======================================================\n",
      "法則: ['cooking oil']->['mineral water']\n",
      "支持度: 0.020130649246767097\n",
      "信賴度: 0.3942558746736292\n",
      "提升度: 1.6539783646123563\n",
      "======================================================\n",
      "法則: ['eggs']->['french fries']\n",
      "支持度: 0.036395147313691506\n",
      "信賴度: 0.20252225519287834\n",
      "提升度: 1.1849605586597352\n",
      "======================================================\n",
      "法則: ['frozen vegetables']->['eggs']\n",
      "支持度: 0.021730435941874418\n",
      "信賴度: 0.22797202797202798\n",
      "提升度: 1.2685594820609658\n",
      "======================================================\n",
      "法則: ['milk']->['eggs']\n",
      "支持度: 0.03079589388081589\n",
      "信賴度: 0.23765432098765432\n",
      "提升度: 1.322436989412756\n",
      "======================================================\n",
      "法則: ['eggs']->['mineral water']\n",
      "支持度: 0.05092654312758299\n",
      "信賴度: 0.28338278931750743\n",
      "提升度: 1.188844688294532\n",
      "======================================================\n",
      "法則: ['pancakes']->['eggs']\n",
      "支持度: 0.021730435941874418\n",
      "信賴度: 0.2286115007012623\n",
      "提升度: 1.2721178536796502\n",
      "======================================================\n",
      "法則: ['eggs']->['spaghetti']\n",
      "支持度: 0.036528462871617116\n",
      "信賴度: 0.2032640949554896\n",
      "提升度: 1.1674456173515526\n",
      "======================================================\n",
      "法則: ['green tea']->['french fries']\n",
      "支持度: 0.028529529396080524\n",
      "信賴度: 0.21594349142280528\n",
      "提升度: 1.263488400282732\n",
      "======================================================\n",
      "法則: ['pancakes']->['french fries']\n",
      "支持度: 0.020130649246767097\n",
      "信賴度: 0.211781206171108\n",
      "提升度: 1.2391348108342286\n",
      "======================================================\n",
      "法則: ['frozen smoothie']->['mineral water']\n",
      "支持度: 0.020263964804692707\n",
      "信賴度: 0.32\n",
      "提升度: 1.342460850111857\n",
      "======================================================\n",
      "法則: ['frozen vegetables']->['milk']\n",
      "支持度: 0.023596853752832957\n",
      "信賴度: 0.24755244755244757\n",
      "提升度: 1.9103815937149273\n",
      "======================================================\n",
      "法則: ['frozen vegetables']->['mineral water']\n",
      "支持度: 0.03572856952406346\n",
      "信賴度: 0.37482517482517486\n",
      "提升度: 1.57246288387228\n",
      "======================================================\n",
      "法則: ['frozen vegetables']->['spaghetti']\n",
      "支持度: 0.027862951606452472\n",
      "信賴度: 0.29230769230769227\n",
      "提升度: 1.678866768759571\n",
      "======================================================\n",
      "法則: ['green tea']->['mineral water']\n",
      "支持度: 0.03106252499666711\n",
      "信賴度: 0.23511604439959638\n",
      "提升度: 0.9863565151238102\n",
      "======================================================\n",
      "法則: ['green tea']->['spaghetti']\n",
      "支持度: 0.026529796027196375\n",
      "信賴度: 0.2008072653884965\n",
      "提升度: 1.153334837426579\n",
      "======================================================\n",
      "法則: ['ground beef']->['milk']\n",
      "支持度: 0.021997067057725635\n",
      "信賴度: 0.22388059701492538\n",
      "提升度: 1.7277040722314356\n",
      "======================================================\n",
      "法則: ['ground beef']->['mineral water']\n",
      "支持度: 0.040927876283162246\n",
      "信賴度: 0.41655359565807326\n",
      "提升度: 1.7475215442008991\n",
      "======================================================\n",
      "法則: ['ground beef']->['spaghetti']\n",
      "支持度: 0.03919477403012932\n",
      "信賴度: 0.3989145183175034\n",
      "提升度: 2.291162176033379\n",
      "======================================================\n",
      "法則: ['low fat yogurt']->['mineral water']\n",
      "支持度: 0.023996800426609784\n",
      "信賴度: 0.313588850174216\n",
      "提升度: 1.315564857470243\n",
      "======================================================\n",
      "法則: ['milk']->['mineral water']\n",
      "支持度: 0.04799360085321957\n",
      "信賴度: 0.3703703703703704\n",
      "提升度: 1.5537741320739085\n",
      "======================================================\n",
      "法則: ['milk']->['spaghetti']\n",
      "支持度: 0.03546193840821224\n",
      "信賴度: 0.27366255144032925\n",
      "提升度: 1.5717785592296398\n",
      "======================================================\n",
      "法則: ['olive oil']->['mineral water']\n",
      "支持度: 0.027596320490601255\n",
      "信賴度: 0.4190283400809717\n",
      "提升度: 1.7579035676439423\n",
      "======================================================\n",
      "法則: ['pancakes']->['mineral water']\n",
      "支持度: 0.03372883615517931\n",
      "信賴度: 0.3548387096774194\n",
      "提升度: 1.4886158620191963\n",
      "======================================================\n",
      "法則: ['shrimp']->['mineral water']\n",
      "支持度: 0.023596853752832957\n",
      "信賴度: 0.3302238805970149\n",
      "提升度: 1.385351973354703\n",
      "======================================================\n",
      "法則: ['soup']->['mineral water']\n",
      "支持度: 0.023063591521130515\n",
      "信賴度: 0.45646437994722955\n",
      "提升度: 1.9149548735929356\n",
      "======================================================\n",
      "法則: ['mineral water']->['spaghetti']\n",
      "支持度: 0.05972536995067324\n",
      "信賴度: 0.2505592841163311\n",
      "提升度: 1.4390851379453289\n",
      "======================================================\n",
      "法則: ['tomatoes']->['mineral water']\n",
      "支持度: 0.024396747100386616\n",
      "信賴度: 0.3567251461988304\n",
      "提升度: 1.4965298219448695\n",
      "======================================================\n",
      "法則: ['whole wheat rice']->['mineral water']\n",
      "支持度: 0.020130649246767097\n",
      "信賴度: 0.3439635535307517\n",
      "提升度: 1.4429925140012128\n",
      "======================================================\n",
      "法則: ['olive oil']->['spaghetti']\n",
      "支持度: 0.022930275963204905\n",
      "信賴度: 0.3481781376518219\n",
      "提升度: 1.999758201015556\n",
      "======================================================\n",
      "法則: ['pancakes']->['spaghetti']\n",
      "支持度: 0.025196640447940274\n",
      "信賴度: 0.2650771388499299\n",
      "提升度: 1.522468314328732\n",
      "======================================================\n",
      "法則: ['shrimp']->['spaghetti']\n",
      "支持度: 0.021197173710171976\n",
      "信賴度: 0.2966417910447761\n",
      "提升度: 1.7037596283513519\n",
      "======================================================\n",
      "法則: ['tomatoes']->['spaghetti']\n",
      "支持度: 0.020930542594320756\n",
      "信賴度: 0.3060428849902534\n",
      "提升度: 1.7577547322449394\n",
      "======================================================\n"
     ]
    }
   ],
   "source": [
    "for rule in Association_Results:\n",
    "    pair1 = rule[2][0][0]\n",
    "    pair2 = rule[2][0][1]\n",
    "\n",
    "    ante_items = [x for x in pair1]     #從第0筆開始算，邊讀取會邊儲存進去\n",
    "    conse_items = [x for x in pair2]\n",
    "\n",
    "    print('法則: ' + str(ante_items) + '->' + str(conse_items))\n",
    "    print('支持度: '+ str(rule[1]))\n",
    "    print('信賴度: ' + str(rule[2][0][2]))\n",
    "    print('提升度: ' + str(rule[2][0][3]))\n",
    "    print('======================================================')"
   ]
  },
  {
   "attachments": {},
   "cell_type": "markdown",
   "metadata": {},
   "source": [
    "語法教學:"
   ]
  },
  {
   "cell_type": "code",
   "execution_count": 49,
   "metadata": {},
   "outputs": [
    {
     "name": "stdout",
     "output_type": "stream",
     "text": [
      "[0, 1, 2, 3, 4, 5, 6, 7, 8, 9]\n"
     ]
    }
   ],
   "source": [
    "arr2 = [x for x in range(10)]   #x會從0開始，會自動添加進去，不用在另外宣告container去儲存\n",
    "\n",
    "print(arr2)"
   ]
  },
  {
   "attachments": {},
   "cell_type": "markdown",
   "metadata": {},
   "source": [
    "#進行資料剖析"
   ]
  },
  {
   "cell_type": "code",
   "execution_count": 52,
   "metadata": {},
   "outputs": [
    {
     "data": {
      "text/plain": [
       "RelationRecord(items=frozenset({'spaghetti', 'tomatoes'}), support=0.020930542594320756, ordered_statistics=[OrderedStatistic(items_base=frozenset({'tomatoes'}), items_add=frozenset({'spaghetti'}), confidence=0.3060428849902534, lift=1.7577547322449394)])"
      ]
     },
     "execution_count": 52,
     "metadata": {},
     "output_type": "execute_result"
    }
   ],
   "source": [
    "rule"
   ]
  },
  {
   "cell_type": "code",
   "execution_count": 53,
   "metadata": {},
   "outputs": [
    {
     "data": {
      "text/plain": [
       "frozenset({'spaghetti', 'tomatoes'})"
      ]
     },
     "execution_count": 53,
     "metadata": {},
     "output_type": "execute_result"
    }
   ],
   "source": [
    "rule[0]"
   ]
  },
  {
   "cell_type": "code",
   "execution_count": 56,
   "metadata": {},
   "outputs": [
    {
     "data": {
      "text/plain": [
       "[OrderedStatistic(items_base=frozenset({'tomatoes'}), items_add=frozenset({'spaghetti'}), confidence=0.3060428849902534, lift=1.7577547322449394)]"
      ]
     },
     "execution_count": 56,
     "metadata": {},
     "output_type": "execute_result"
    }
   ],
   "source": [
    "rule[2]"
   ]
  },
  {
   "cell_type": "code",
   "execution_count": 57,
   "metadata": {},
   "outputs": [
    {
     "data": {
      "text/plain": [
       "OrderedStatistic(items_base=frozenset({'tomatoes'}), items_add=frozenset({'spaghetti'}), confidence=0.3060428849902534, lift=1.7577547322449394)"
      ]
     },
     "execution_count": 57,
     "metadata": {},
     "output_type": "execute_result"
    }
   ],
   "source": [
    "rule[2][0]   #注意看!!，跟上面的差異，已經進入到括號內"
   ]
  },
  {
   "cell_type": "code",
   "execution_count": 61,
   "metadata": {},
   "outputs": [
    {
     "data": {
      "text/plain": [
       "frozenset({'tomatoes'})"
      ]
     },
     "execution_count": 61,
     "metadata": {},
     "output_type": "execute_result"
    }
   ],
   "source": [
    "rule[2][0][0]"
   ]
  }
 ],
 "metadata": {
  "kernelspec": {
   "display_name": "Python 3",
   "language": "python",
   "name": "python3"
  },
  "language_info": {
   "codemirror_mode": {
    "name": "ipython",
    "version": 3
   },
   "file_extension": ".py",
   "mimetype": "text/x-python",
   "name": "python",
   "nbconvert_exporter": "python",
   "pygments_lexer": "ipython3",
   "version": "3.8.10"
  },
  "orig_nbformat": 4,
  "vscode": {
   "interpreter": {
    "hash": "570feb405e2e27c949193ac68f46852414290d515b0ba6e5d90d076ed2284471"
   }
  }
 },
 "nbformat": 4,
 "nbformat_minor": 2
}
